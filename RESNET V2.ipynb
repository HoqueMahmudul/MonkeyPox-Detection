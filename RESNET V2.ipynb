{
  "nbformat": 4,
  "nbformat_minor": 0,
  "metadata": {
    "colab": {
      "provenance": []
    },
    "kernelspec": {
      "name": "python3",
      "display_name": "Python 3"
    },
    "language_info": {
      "name": "python"
    },
    "accelerator": "GPU",
    "gpuClass": "standard"
  },
  "cells": [
    {
      "cell_type": "code",
      "execution_count": null,
      "metadata": {
        "id": "xa3BJBIfuo6V"
      },
      "outputs": [],
      "source": [
        "#Unzipped File\n",
        "!pip install -q kaggle"
      ]
    },
    {
      "cell_type": "code",
      "source": [
        "from google.colab import files\n",
        "files.upload()"
      ],
      "metadata": {
        "colab": {
          "resources": {
            "http://localhost:8080/nbextensions/google.colab/files.js": {
              "data": "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",
              "ok": true,
              "headers": [
                [
                  "content-type",
                  "application/javascript"
                ]
              ],
              "status": 200,
              "status_text": ""
            }
          },
          "base_uri": "https://localhost:8080/",
          "height": 91
        },
        "id": "yyzWqo1su2o_",
        "outputId": "2419103b-3f38-4eae-d016-6a4f1821ed9d"
      },
      "execution_count": null,
      "outputs": [
        {
          "output_type": "display_data",
          "data": {
            "text/plain": [
              "<IPython.core.display.HTML object>"
            ],
            "text/html": [
              "\n",
              "     <input type=\"file\" id=\"files-a4acdc88-c3b4-4075-9e03-dfcde51c3032\" name=\"files[]\" multiple disabled\n",
              "        style=\"border:none\" />\n",
              "     <output id=\"result-a4acdc88-c3b4-4075-9e03-dfcde51c3032\">\n",
              "      Upload widget is only available when the cell has been executed in the\n",
              "      current browser session. Please rerun this cell to enable.\n",
              "      </output>\n",
              "      <script src=\"/nbextensions/google.colab/files.js\"></script> "
            ]
          },
          "metadata": {}
        },
        {
          "output_type": "stream",
          "name": "stdout",
          "text": [
            "Saving kaggle.json to kaggle.json\n"
          ]
        },
        {
          "output_type": "execute_result",
          "data": {
            "text/plain": [
              "{'kaggle.json': b'{\"username\":\"mhoque12\",\"key\":\"99c688c416bf27ccb033999c0ccde93c\"}'}"
            ]
          },
          "metadata": {},
          "execution_count": 4
        }
      ]
    },
    {
      "cell_type": "code",
      "source": [
        "#copy the kaggle.json to folder created\n",
        "! cp kaggle.json ~/.kaggle/"
      ],
      "metadata": {
        "id": "fsvnIesbu_Uv"
      },
      "execution_count": null,
      "outputs": []
    },
    {
      "cell_type": "code",
      "source": [
        "#Create a kaggle folder\n",
        "!mkdir ~/.kaggle"
      ],
      "metadata": {
        "colab": {
          "base_uri": "https://localhost:8080/"
        },
        "id": "xuq33iC2vDe1",
        "outputId": "f6f1f566-36b3-482c-96bd-96503bfe5422"
      },
      "execution_count": null,
      "outputs": [
        {
          "output_type": "stream",
          "name": "stdout",
          "text": [
            "mkdir: cannot create directory ‘/root/.kaggle’: File exists\n"
          ]
        }
      ]
    },
    {
      "cell_type": "code",
      "source": [
        "#permission for the json to act\n",
        "!chmod 600 ~/.kaggle/kaggle.json"
      ],
      "metadata": {
        "id": "sVy2W3_BvENu"
      },
      "execution_count": null,
      "outputs": []
    },
    {
      "cell_type": "code",
      "source": [
        "#to list all datasets in kaggle\n",
        "!kaggle datasets list"
      ],
      "metadata": {
        "colab": {
          "base_uri": "https://localhost:8080/"
        },
        "id": "DrEIEUzIvKGP",
        "outputId": "f9890380-12b7-42e6-9f92-7677826fcdc2"
      },
      "execution_count": null,
      "outputs": [
        {
          "output_type": "stream",
          "name": "stdout",
          "text": [
            "ref                                                  title                                       size  lastUpdated          downloadCount  voteCount  usabilityRating  \n",
            "---------------------------------------------------  -----------------------------------------  -----  -------------------  -------------  ---------  ---------------  \n",
            "iamsouravbanerjee/house-rent-prediction-dataset      House Rent Prediction Dataset               82KB  2022-08-20 13:49:03           4198        142  1.0              \n",
            "deepcontractor/mcdonalds-india-menu-nutrition-facts  McDonald's India : Menu Nutrition Dataset    5KB  2022-07-28 17:08:52           3995        163  0.9411765        \n",
            "arianazmoudeh/airbnbopendata                         Airbnb Open Data                            10MB  2022-08-01 15:58:10           2526         85  0.9705882        \n",
            "digitalbro/usa-childrens-hospitals                   USA Childrens Hospitals                     18KB  2022-08-24 02:20:09            256         22  1.0              \n",
            "iamsouravbanerjee/world-population-dataset           World Population Dataset                    17KB  2022-08-27 08:29:18            386         48  1.0              \n",
            "sveta151/tiktok-popular-songs-2022                   Tiktok popular songs 2022                   15KB  2022-08-22 11:20:57            572         26  1.0              \n",
            "tarundalal/100-richest-people-in-world               100 Richest People In World                  3KB  2022-08-17 14:30:02            623         39  1.0              \n",
            "deepcontractor/smoke-detection-dataset               Smoke Detection Dataset                      2MB  2022-08-21 06:29:34            459         29  1.0              \n",
            "infamouscoder/dataset-netflix-shows                  Dataset: NetFlix Shows                       1MB  2022-08-11 05:05:41           1193         56  1.0              \n",
            "tarundalal/the-big-three-anime-arcs                  The Big Three Anime Arcs                     3KB  2022-08-16 12:22:54            232         23  1.0              \n",
            "sveta151/tiktok-popular-songs-2019                   TikTok popular songs 2019                   45KB  2022-08-22 10:04:48            281         22  1.0              \n",
            "mohannapd/mobile-price-prediction                    Mobile Price Prediction                     19KB  2022-08-21 12:24:41            466         22  0.7941176        \n",
            "imbikramsaha/indian-gdp                              GDP Growth of India                          2KB  2022-08-21 03:35:13            397         22  1.0              \n",
            "adoumtaiga/transport                                 Transport                                   636B  2022-08-17 11:49:08            299         21  1.0              \n",
            "jgiigii/uscrimesdataset                              USCrimesDataset                             45MB  2022-08-13 22:48:23            475         22  0.9117647        \n",
            "reihanenamdari/breast-cancer                         Breast Cancer                               43KB  2022-08-08 19:25:55           1049         47  1.0              \n",
            "dansbecker/melbourne-housing-snapshot                Melbourne Housing Snapshot                 451KB  2018-06-05 12:52:24          94038       1127  0.7058824        \n",
            "himanshunakrani/student-study-hours                  Student Study Hours                         276B  2022-07-20 13:17:29           3185         92  1.0              \n",
            "vanvalkenberg/historicalweatherdataforindiancities   Weather data Indian cities (1990 to 2022)  504KB  2022-07-29 11:13:42           1226         42  1.0              \n",
            "datasnaek/youtube-new                                Trending YouTube Video Statistics          201MB  2019-06-03 00:56:47         184477       4647  0.7941176        \n"
          ]
        }
      ]
    },
    {
      "cell_type": "code",
      "source": [
        "!kaggle datasets download -d nafin59/monkeypox-skin-lesion-dataset"
      ],
      "metadata": {
        "colab": {
          "base_uri": "https://localhost:8080/"
        },
        "id": "WZ_znZs_vL9Z",
        "outputId": "b0921bfc-47b0-4f6a-9d6d-b394ba7dc2d7"
      },
      "execution_count": null,
      "outputs": [
        {
          "output_type": "stream",
          "name": "stdout",
          "text": [
            "Downloading monkeypox-skin-lesion-dataset.zip to /content\n",
            "\r  0% 0.00/46.3M [00:00<?, ?B/s]\r 35% 16.0M/46.3M [00:00<00:00, 166MB/s]\r 89% 41.0M/46.3M [00:00<00:00, 170MB/s]\n",
            "\r100% 46.3M/46.3M [00:00<00:00, 182MB/s]\n"
          ]
        }
      ]
    },
    {
      "cell_type": "markdown",
      "source": [
        "Unzipped Files"
      ],
      "metadata": {
        "id": "rdKGmXX1wLR6"
      }
    },
    {
      "cell_type": "code",
      "source": [
        "from zipfile import ZipFile\n",
        "file_name= \"monkeypox-skin-lesion-dataset.zip\"\n",
        "with ZipFile(file_name,'r') as zip:\n",
        "  zip.extractall()\n",
        "  print('Done')"
      ],
      "metadata": {
        "colab": {
          "base_uri": "https://localhost:8080/"
        },
        "id": "zQY0PZTLwNXY",
        "outputId": "eb7a74c5-02ad-4317-fad8-fbcd3a78f6a5"
      },
      "execution_count": null,
      "outputs": [
        {
          "output_type": "stream",
          "name": "stdout",
          "text": [
            "Done\n"
          ]
        }
      ]
    },
    {
      "cell_type": "code",
      "source": [
        "import pandas as pd\n",
        "df =pd.read_csv('Monkeypox_Dataset_metadata.csv')\n",
        "df.head()"
      ],
      "metadata": {
        "colab": {
          "base_uri": "https://localhost:8080/",
          "height": 206
        },
        "id": "SBgx6-YAwPlA",
        "outputId": "dde3cf42-77c6-4c6c-c1d6-df773ff5f966"
      },
      "execution_count": null,
      "outputs": [
        {
          "output_type": "execute_result",
          "data": {
            "text/plain": [
              "  ImageID      Label\n",
              "0  M01_01  Monkeypox\n",
              "1  M01_02  Monkeypox\n",
              "2  M01_03  Monkeypox\n",
              "3  M01_04  Monkeypox\n",
              "4  M02_01  Monkeypox"
            ],
            "text/html": [
              "\n",
              "  <div id=\"df-6b7f3c1a-6a8d-471e-8811-293d87a45c97\">\n",
              "    <div class=\"colab-df-container\">\n",
              "      <div>\n",
              "<style scoped>\n",
              "    .dataframe tbody tr th:only-of-type {\n",
              "        vertical-align: middle;\n",
              "    }\n",
              "\n",
              "    .dataframe tbody tr th {\n",
              "        vertical-align: top;\n",
              "    }\n",
              "\n",
              "    .dataframe thead th {\n",
              "        text-align: right;\n",
              "    }\n",
              "</style>\n",
              "<table border=\"1\" class=\"dataframe\">\n",
              "  <thead>\n",
              "    <tr style=\"text-align: right;\">\n",
              "      <th></th>\n",
              "      <th>ImageID</th>\n",
              "      <th>Label</th>\n",
              "    </tr>\n",
              "  </thead>\n",
              "  <tbody>\n",
              "    <tr>\n",
              "      <th>0</th>\n",
              "      <td>M01_01</td>\n",
              "      <td>Monkeypox</td>\n",
              "    </tr>\n",
              "    <tr>\n",
              "      <th>1</th>\n",
              "      <td>M01_02</td>\n",
              "      <td>Monkeypox</td>\n",
              "    </tr>\n",
              "    <tr>\n",
              "      <th>2</th>\n",
              "      <td>M01_03</td>\n",
              "      <td>Monkeypox</td>\n",
              "    </tr>\n",
              "    <tr>\n",
              "      <th>3</th>\n",
              "      <td>M01_04</td>\n",
              "      <td>Monkeypox</td>\n",
              "    </tr>\n",
              "    <tr>\n",
              "      <th>4</th>\n",
              "      <td>M02_01</td>\n",
              "      <td>Monkeypox</td>\n",
              "    </tr>\n",
              "  </tbody>\n",
              "</table>\n",
              "</div>\n",
              "      <button class=\"colab-df-convert\" onclick=\"convertToInteractive('df-6b7f3c1a-6a8d-471e-8811-293d87a45c97')\"\n",
              "              title=\"Convert this dataframe to an interactive table.\"\n",
              "              style=\"display:none;\">\n",
              "        \n",
              "  <svg xmlns=\"http://www.w3.org/2000/svg\" height=\"24px\"viewBox=\"0 0 24 24\"\n",
              "       width=\"24px\">\n",
              "    <path d=\"M0 0h24v24H0V0z\" fill=\"none\"/>\n",
              "    <path d=\"M18.56 5.44l.94 2.06.94-2.06 2.06-.94-2.06-.94-.94-2.06-.94 2.06-2.06.94zm-11 1L8.5 8.5l.94-2.06 2.06-.94-2.06-.94L8.5 2.5l-.94 2.06-2.06.94zm10 10l.94 2.06.94-2.06 2.06-.94-2.06-.94-.94-2.06-.94 2.06-2.06.94z\"/><path d=\"M17.41 7.96l-1.37-1.37c-.4-.4-.92-.59-1.43-.59-.52 0-1.04.2-1.43.59L10.3 9.45l-7.72 7.72c-.78.78-.78 2.05 0 2.83L4 21.41c.39.39.9.59 1.41.59.51 0 1.02-.2 1.41-.59l7.78-7.78 2.81-2.81c.8-.78.8-2.07 0-2.86zM5.41 20L4 18.59l7.72-7.72 1.47 1.35L5.41 20z\"/>\n",
              "  </svg>\n",
              "      </button>\n",
              "      \n",
              "  <style>\n",
              "    .colab-df-container {\n",
              "      display:flex;\n",
              "      flex-wrap:wrap;\n",
              "      gap: 12px;\n",
              "    }\n",
              "\n",
              "    .colab-df-convert {\n",
              "      background-color: #E8F0FE;\n",
              "      border: none;\n",
              "      border-radius: 50%;\n",
              "      cursor: pointer;\n",
              "      display: none;\n",
              "      fill: #1967D2;\n",
              "      height: 32px;\n",
              "      padding: 0 0 0 0;\n",
              "      width: 32px;\n",
              "    }\n",
              "\n",
              "    .colab-df-convert:hover {\n",
              "      background-color: #E2EBFA;\n",
              "      box-shadow: 0px 1px 2px rgba(60, 64, 67, 0.3), 0px 1px 3px 1px rgba(60, 64, 67, 0.15);\n",
              "      fill: #174EA6;\n",
              "    }\n",
              "\n",
              "    [theme=dark] .colab-df-convert {\n",
              "      background-color: #3B4455;\n",
              "      fill: #D2E3FC;\n",
              "    }\n",
              "\n",
              "    [theme=dark] .colab-df-convert:hover {\n",
              "      background-color: #434B5C;\n",
              "      box-shadow: 0px 1px 3px 1px rgba(0, 0, 0, 0.15);\n",
              "      filter: drop-shadow(0px 1px 2px rgba(0, 0, 0, 0.3));\n",
              "      fill: #FFFFFF;\n",
              "    }\n",
              "  </style>\n",
              "\n",
              "      <script>\n",
              "        const buttonEl =\n",
              "          document.querySelector('#df-6b7f3c1a-6a8d-471e-8811-293d87a45c97 button.colab-df-convert');\n",
              "        buttonEl.style.display =\n",
              "          google.colab.kernel.accessAllowed ? 'block' : 'none';\n",
              "\n",
              "        async function convertToInteractive(key) {\n",
              "          const element = document.querySelector('#df-6b7f3c1a-6a8d-471e-8811-293d87a45c97');\n",
              "          const dataTable =\n",
              "            await google.colab.kernel.invokeFunction('convertToInteractive',\n",
              "                                                     [key], {});\n",
              "          if (!dataTable) return;\n",
              "\n",
              "          const docLinkHtml = 'Like what you see? Visit the ' +\n",
              "            '<a target=\"_blank\" href=https://colab.research.google.com/notebooks/data_table.ipynb>data table notebook</a>'\n",
              "            + ' to learn more about interactive tables.';\n",
              "          element.innerHTML = '';\n",
              "          dataTable['output_type'] = 'display_data';\n",
              "          await google.colab.output.renderOutput(dataTable, element);\n",
              "          const docLink = document.createElement('div');\n",
              "          docLink.innerHTML = docLinkHtml;\n",
              "          element.appendChild(docLink);\n",
              "        }\n",
              "      </script>\n",
              "    </div>\n",
              "  </div>\n",
              "  "
            ]
          },
          "metadata": {},
          "execution_count": 14
        }
      ]
    },
    {
      "cell_type": "markdown",
      "source": [
        "Codes"
      ],
      "metadata": {
        "id": "e1k5m38iwVPL"
      }
    },
    {
      "cell_type": "code",
      "source": [
        "pip install opencv-python"
      ],
      "metadata": {
        "colab": {
          "base_uri": "https://localhost:8080/"
        },
        "id": "PnZZ1t6lwWM0",
        "outputId": "84806cab-9217-41c0-a2e0-7a06a2b26269"
      },
      "execution_count": null,
      "outputs": [
        {
          "output_type": "stream",
          "name": "stdout",
          "text": [
            "Looking in indexes: https://pypi.org/simple, https://us-python.pkg.dev/colab-wheels/public/simple/\n",
            "Requirement already satisfied: opencv-python in /usr/local/lib/python3.7/dist-packages (4.6.0.66)\n",
            "Requirement already satisfied: numpy>=1.14.5 in /usr/local/lib/python3.7/dist-packages (from opencv-python) (1.21.6)\n"
          ]
        }
      ]
    },
    {
      "cell_type": "markdown",
      "source": [
        "Counting Fold 1 Train,Val,Test Data"
      ],
      "metadata": {
        "id": "UhgPjTIKwfP_"
      }
    },
    {
      "cell_type": "code",
      "source": [
        "import os \n",
        "#print(Train images number)\n",
        "data_dir_list =os.listdir('/content/Fold1/Fold1/Fold1/Train/Monkeypox')\n",
        "path,dirs,files =next(os.walk('/content/Fold1/Fold1/Fold1/Train/Monkeypox'))\n",
        "file_count= len(files)\n",
        "print('Total train monkeypox images :',file_count)\n",
        "\n",
        "data_dir_list  =os.listdir('/content/Fold1/Fold1/Fold1/Train/Others')\n",
        "path,dirs,files =next(os.walk('/content/Fold1/Fold1/Fold1/Train/Others'))\n",
        "file_count_1= len(files)\n",
        "print( 'Total train others images :' ,file_count_1)\n",
        "\n",
        "#print(Validation images number)\n",
        "data_dir_list =os.listdir('/content/Fold1/Fold1/Fold1/Val/Monkeypox')\n",
        "path,dirs,files =next(os.walk('/content/Fold1/Fold1/Fold1/Val/Monkeypox'))\n",
        "file_count_2= len(files)\n",
        "print( 'Total train val monkeypox images :' ,file_count_2)\n",
        "\n",
        "data_dir_list =os.listdir('/content/Fold1/Fold1/Fold1/Val/Others')\n",
        "path,dirs,files =next(os.walk('/content/Fold1/Fold1/Fold1/Test/Others'))\n",
        "file_count_3= len(files)\n",
        "print( 'Total train val others images :' ,file_count_3)\n",
        "\n",
        "#print(Test images number)\n",
        "data_dir_list =os.listdir('/content/Fold1/Fold1/Fold1/Test/Monkeypox')\n",
        "path,dirs,files =next(os.walk('/content/Fold1/Fold1/Fold1/Test/Monkeypox'))\n",
        "file_count_4= len(files)\n",
        "print( 'Total test monkeypox images :' ,file_count_4)\n",
        "\n",
        "data_dir_list =os.listdir('/content/Fold1/Fold1/Fold1/Test/Others')\n",
        "path,dirs,files =next(os.walk('/content/Fold1/Fold1/Fold1/Test/Others'))\n",
        "file_count_5= len(files)\n",
        "print( 'Total test others images :' ,file_count_5)"
      ],
      "metadata": {
        "colab": {
          "base_uri": "https://localhost:8080/"
        },
        "id": "EswjuNAjwgny",
        "outputId": "ae69fd1d-0630-4554-9a0e-77b2a61c48cd"
      },
      "execution_count": null,
      "outputs": [
        {
          "output_type": "stream",
          "name": "stdout",
          "text": [
            "Total train monkeypox images : 980\n",
            "Total train others images : 1162\n",
            "Total train val monkeypox images : 168\n",
            "Total train val others images : 25\n",
            "Total test monkeypox images : 20\n",
            "Total test others images : 25\n"
          ]
        }
      ]
    },
    {
      "cell_type": "markdown",
      "source": [
        "Counting Augmented Images(Monkeypox and Others)"
      ],
      "metadata": {
        "id": "yvi765dfwrMQ"
      }
    },
    {
      "cell_type": "code",
      "source": [
        "data_dir_list =os.listdir('/content/Augmented Images/Augmented Images/Monkeypox_augmented')\n",
        "#print(data_dir_list)\n",
        "path,dirs,files =next(os.walk('/content/Augmented Images/Augmented Images/Monkeypox_augmented'))\n",
        "file_count= len(files)\n",
        "print(file_count)\n",
        "data_dir_list  =os.listdir('/content/Augmented Images/Augmented Images/Others_augmented')\n",
        "#print(data_dir_list)\n",
        "path,dirs,files =next(os.walk('/content/Augmented Images/Augmented Images/Others_augmented'))\n",
        "file_count_1= len(files)\n",
        "print(file_count_1)"
      ],
      "metadata": {
        "colab": {
          "base_uri": "https://localhost:8080/"
        },
        "id": "3HJ6alEUwt7b",
        "outputId": "1ee2ddb6-a2bb-4d34-d4f5-5f630c2f944b"
      },
      "execution_count": null,
      "outputs": [
        {
          "output_type": "stream",
          "name": "stdout",
          "text": [
            "1428\n",
            "1764\n"
          ]
        }
      ]
    },
    {
      "cell_type": "markdown",
      "source": [
        "Labels"
      ],
      "metadata": {
        "id": "1SSDVCeEwz5G"
      }
    },
    {
      "cell_type": "code",
      "source": [
        "import cv2,os\n",
        "\n",
        "data_path='/content/Fold1/Fold1/Fold1/Train'\n",
        "categories=os.listdir(data_path)\n",
        "labels=[i for i in range(len(categories))]\n",
        "\n",
        "print(categories)\n",
        "print(labels)"
      ],
      "metadata": {
        "colab": {
          "base_uri": "https://localhost:8080/"
        },
        "id": "QjK-5sD6w0o-",
        "outputId": "d7bf87e6-1833-466b-e885-e29fed777976"
      },
      "execution_count": null,
      "outputs": [
        {
          "output_type": "stream",
          "name": "stdout",
          "text": [
            "['Others', 'Monkeypox']\n",
            "[0, 1]\n"
          ]
        }
      ]
    },
    {
      "cell_type": "markdown",
      "source": [
        "Creating Base Dir"
      ],
      "metadata": {
        "id": "eI5TSPCQw4tS"
      }
    },
    {
      "cell_type": "code",
      "source": [
        "original_dataset_dir = '/content/Fold1/Fold1/Fold1/Train'\n",
        "\n",
        "base_dir = '/content/monkeypox_and_others_small'\n",
        "os.mkdir(base_dir) #make base directory"
      ],
      "metadata": {
        "id": "obX8NPRpw7RI"
      },
      "execution_count": null,
      "outputs": []
    },
    {
      "cell_type": "code",
      "source": [
        "#Create directory paths\n",
        "\n",
        "train_dir = os.path.join(base_dir, 'train')\n",
        "os.mkdir(train_dir)\n",
        "\n",
        "validation_dir = os.path.join(base_dir, 'val')\n",
        "os.mkdir(validation_dir)\n",
        "\n",
        "test_dir = os.path.join(base_dir, 'test')\n",
        "os.mkdir(test_dir)"
      ],
      "metadata": {
        "id": "Ry-O65Hpw-my"
      },
      "execution_count": null,
      "outputs": []
    },
    {
      "cell_type": "markdown",
      "source": [
        "Copying to base_dir"
      ],
      "metadata": {
        "id": "LiLjRIOgxCOn"
      }
    },
    {
      "cell_type": "code",
      "source": [
        "import os\n",
        "import shutil\n",
        "src=\"/content/Fold1/Fold1/Fold1/Train/Monkeypox\"\n",
        "dest=\"/content/monkeypox_and_others_small/train/monkeypox\"\n",
        "shutil.copytree(src,dest)"
      ],
      "metadata": {
        "colab": {
          "base_uri": "https://localhost:8080/",
          "height": 36
        },
        "id": "An-ce7qxxDVa",
        "outputId": "81787b5d-e321-44b7-ca70-8468f9a8f61a"
      },
      "execution_count": null,
      "outputs": [
        {
          "output_type": "execute_result",
          "data": {
            "text/plain": [
              "'/content/monkeypox_and_others_small/train/monkeypox'"
            ],
            "application/vnd.google.colaboratory.intrinsic+json": {
              "type": "string"
            }
          },
          "metadata": {},
          "execution_count": 21
        }
      ]
    },
    {
      "cell_type": "code",
      "source": [
        "import os\n",
        "import shutil\n",
        "src1=\"/content/Fold1/Fold1/Fold1/Train/Others\"\n",
        "dest1=\"/content/monkeypox_and_others_small/train/others\"\n",
        "shutil.copytree(src1,dest1)\n",
        "src2=\"/content/Fold1/Fold1/Fold1/Val/Monkeypox\"\n",
        "dest2=\"/content/monkeypox_and_others_small/val/monkeypox\"\n",
        "shutil.copytree(src2,dest2)\n",
        "src3=\"/content/Fold1/Fold1/Fold1/Val/Others\"\n",
        "dest3=\"/content/monkeypox_and_others_small/val/others\"\n",
        "shutil.copytree(src3,dest3)\n",
        "src4=\"/content/Fold1/Fold1/Fold1/Test/Monkeypox\"\n",
        "dest4=\"/content/monkeypox_and_others_small/test/monkeypox\"\n",
        "shutil.copytree(src4,dest4)\n",
        "src5=\"/content/Fold1/Fold1/Fold1/Test/Others\"\n",
        "dest5=\"/content/monkeypox_and_others_small/test/others\"\n",
        "shutil.copytree(src5,dest5)"
      ],
      "metadata": {
        "colab": {
          "base_uri": "https://localhost:8080/",
          "height": 36
        },
        "id": "a6D_O_w7xFct",
        "outputId": "1882ee7a-2d74-41db-dfe0-d0a3fe7c8241"
      },
      "execution_count": null,
      "outputs": [
        {
          "output_type": "execute_result",
          "data": {
            "text/plain": [
              "'/content/monkeypox_and_others_small/test/others'"
            ],
            "application/vnd.google.colaboratory.intrinsic+json": {
              "type": "string"
            }
          },
          "metadata": {},
          "execution_count": 22
        }
      ]
    },
    {
      "cell_type": "markdown",
      "source": [
        "##VGG16"
      ],
      "metadata": {
        "id": "AHGaAD82xOvs"
      }
    },
    {
      "cell_type": "code",
      "source": [
        "import keras\n",
        "import tensorflow as tf\n",
        "from keras.layers import Input, Lambda, Dense, Flatten\n",
        "from keras.models import Model\n",
        "from keras.applications.vgg16 import VGG16\n",
        "from keras.applications.vgg16 import preprocess_input\n",
        "from keras.preprocessing import image\n",
        "from keras.preprocessing.image import ImageDataGenerator\n",
        "from keras.models import Sequential\n",
        "import numpy as np\n",
        "from glob import glob\n",
        "import matplotlib.pyplot as plt\n",
        "from keras.models import load_model\n",
        "from keras.layers import Dropout"
      ],
      "metadata": {
        "id": "0kGZwbF4xRBE"
      },
      "execution_count": null,
      "outputs": []
    },
    {
      "cell_type": "code",
      "source": [
        "# re-size all the images to this\n",
        "IMAGE_SIZE = [224, 224]"
      ],
      "metadata": {
        "id": "MOk4iHDAx5sn"
      },
      "execution_count": null,
      "outputs": []
    },
    {
      "cell_type": "code",
      "source": [
        "train_path = 'Datasets/Train'\n",
        "valid_path = 'Datasets/Test'"
      ],
      "metadata": {
        "id": "7i5KUMJkx7Vn"
      },
      "execution_count": null,
      "outputs": []
    },
    {
      "cell_type": "code",
      "source": [
        "# add preprocessing layer to the front of VGG\n",
        "vgg = VGG16(input_shape=IMAGE_SIZE + [3], weights='imagenet', include_top=False)"
      ],
      "metadata": {
        "colab": {
          "base_uri": "https://localhost:8080/"
        },
        "id": "yClVn6uwx9gC",
        "outputId": "8e762b3f-05e6-400d-b473-dca9042140d3"
      },
      "execution_count": null,
      "outputs": [
        {
          "output_type": "stream",
          "name": "stdout",
          "text": [
            "Downloading data from https://storage.googleapis.com/tensorflow/keras-applications/vgg16/vgg16_weights_tf_dim_ordering_tf_kernels_notop.h5\n",
            "58892288/58889256 [==============================] - 0s 0us/step\n",
            "58900480/58889256 [==============================] - 0s 0us/step\n"
          ]
        }
      ]
    },
    {
      "cell_type": "code",
      "source": [
        "# don't train existing weights\n",
        "for layer in vgg.layers:\n",
        "  layer.trainable = False"
      ],
      "metadata": {
        "id": "BSDPZf5Ox_sl"
      },
      "execution_count": null,
      "outputs": []
    },
    {
      "cell_type": "code",
      "source": [
        "  # useful for getting number of classes\n",
        "folders = glob('/content/monkeypox_and_others_small/train/*')"
      ],
      "metadata": {
        "id": "bqD_inCDyBId"
      },
      "execution_count": null,
      "outputs": []
    },
    {
      "cell_type": "code",
      "source": [
        "# our layers - you can add more if you want\n",
        "x = Flatten()(vgg.output)\n",
        "# x = Dense(1000, activation='relu')(x)\n",
        "prediction = Dense(len(folders), activation='softmax')(x)"
      ],
      "metadata": {
        "id": "e5oHX4asyDet"
      },
      "execution_count": null,
      "outputs": []
    },
    {
      "cell_type": "code",
      "source": [
        "# create a model object\n",
        "model = Model(inputs=vgg.input, outputs=prediction)\n"
      ],
      "metadata": {
        "id": "dYutnIl-yHIn"
      },
      "execution_count": null,
      "outputs": []
    },
    {
      "cell_type": "code",
      "source": [
        "# view the structure of the model\n",
        "model.summary()"
      ],
      "metadata": {
        "colab": {
          "base_uri": "https://localhost:8080/"
        },
        "id": "61Ngb9JQyHrr",
        "outputId": "d56e38bf-567e-48f1-fbeb-1ceb59c741c9"
      },
      "execution_count": null,
      "outputs": [
        {
          "output_type": "stream",
          "name": "stdout",
          "text": [
            "Model: \"model\"\n",
            "_________________________________________________________________\n",
            " Layer (type)                Output Shape              Param #   \n",
            "=================================================================\n",
            " input_1 (InputLayer)        [(None, 224, 224, 3)]     0         \n",
            "                                                                 \n",
            " block1_conv1 (Conv2D)       (None, 224, 224, 64)      1792      \n",
            "                                                                 \n",
            " block1_conv2 (Conv2D)       (None, 224, 224, 64)      36928     \n",
            "                                                                 \n",
            " block1_pool (MaxPooling2D)  (None, 112, 112, 64)      0         \n",
            "                                                                 \n",
            " block2_conv1 (Conv2D)       (None, 112, 112, 128)     73856     \n",
            "                                                                 \n",
            " block2_conv2 (Conv2D)       (None, 112, 112, 128)     147584    \n",
            "                                                                 \n",
            " block2_pool (MaxPooling2D)  (None, 56, 56, 128)       0         \n",
            "                                                                 \n",
            " block3_conv1 (Conv2D)       (None, 56, 56, 256)       295168    \n",
            "                                                                 \n",
            " block3_conv2 (Conv2D)       (None, 56, 56, 256)       590080    \n",
            "                                                                 \n",
            " block3_conv3 (Conv2D)       (None, 56, 56, 256)       590080    \n",
            "                                                                 \n",
            " block3_pool (MaxPooling2D)  (None, 28, 28, 256)       0         \n",
            "                                                                 \n",
            " block4_conv1 (Conv2D)       (None, 28, 28, 512)       1180160   \n",
            "                                                                 \n",
            " block4_conv2 (Conv2D)       (None, 28, 28, 512)       2359808   \n",
            "                                                                 \n",
            " block4_conv3 (Conv2D)       (None, 28, 28, 512)       2359808   \n",
            "                                                                 \n",
            " block4_pool (MaxPooling2D)  (None, 14, 14, 512)       0         \n",
            "                                                                 \n",
            " block5_conv1 (Conv2D)       (None, 14, 14, 512)       2359808   \n",
            "                                                                 \n",
            " block5_conv2 (Conv2D)       (None, 14, 14, 512)       2359808   \n",
            "                                                                 \n",
            " block5_conv3 (Conv2D)       (None, 14, 14, 512)       2359808   \n",
            "                                                                 \n",
            " block5_pool (MaxPooling2D)  (None, 7, 7, 512)         0         \n",
            "                                                                 \n",
            " flatten (Flatten)           (None, 25088)             0         \n",
            "                                                                 \n",
            " dense (Dense)               (None, 2)                 50178     \n",
            "                                                                 \n",
            "=================================================================\n",
            "Total params: 14,764,866\n",
            "Trainable params: 50,178\n",
            "Non-trainable params: 14,714,688\n",
            "_________________________________________________________________\n"
          ]
        }
      ]
    },
    {
      "cell_type": "code",
      "source": [
        "# tell the model what cost and optimization method to use\n",
        "model.compile(\n",
        "  loss='categorical_crossentropy',\n",
        "  optimizer='adam',\n",
        "  metrics=['accuracy']\n",
        ")"
      ],
      "metadata": {
        "id": "aAb2xaG_yJXx"
      },
      "execution_count": null,
      "outputs": []
    },
    {
      "cell_type": "code",
      "source": [
        "train_datagen = ImageDataGenerator(rescale = 1./255,\n",
        "                                   shear_range = 0.2,\n",
        "                                   zoom_range = 0.2,\n",
        "                                   horizontal_flip = True)\n",
        "\n",
        "test_datagen = ImageDataGenerator(rescale = 1./255)\n",
        "\n",
        "training_set = train_datagen.flow_from_directory('/content/monkeypox_and_others_small/train',\n",
        "                                                 target_size = (224, 224),\n",
        "                                                 batch_size = 32,\n",
        "                                                 class_mode = 'categorical')\n",
        "\n",
        "test_set = test_datagen.flow_from_directory('/content/monkeypox_and_others_small/val',\n",
        "                                            target_size = (224, 224),\n",
        "                                            batch_size = 32,\n",
        "                                            class_mode = 'categorical')\n"
      ],
      "metadata": {
        "colab": {
          "base_uri": "https://localhost:8080/"
        },
        "id": "3hiwyI7zyLgg",
        "outputId": "b4414e9c-02f6-4809-ef1d-671a400e901f"
      },
      "execution_count": null,
      "outputs": [
        {
          "output_type": "stream",
          "name": "stdout",
          "text": [
            "Found 2142 images belonging to 2 classes.\n",
            "Found 420 images belonging to 2 classes.\n"
          ]
        }
      ]
    },
    {
      "cell_type": "code",
      "source": [
        "# fit the model\n",
        "r = model.fit_generator(\n",
        "  training_set,\n",
        "  validation_data=test_set,\n",
        "  epochs=20,\n",
        "  steps_per_epoch=len(training_set),\n",
        "  validation_steps=len(test_set)\n",
        ")"
      ],
      "metadata": {
        "colab": {
          "base_uri": "https://localhost:8080/"
        },
        "id": "0OuAv_-LyeBF",
        "outputId": "09b678e3-3613-4121-dca6-bc9aa5914c7a"
      },
      "execution_count": null,
      "outputs": [
        {
          "output_type": "stream",
          "name": "stderr",
          "text": [
            "/usr/local/lib/python3.7/dist-packages/ipykernel_launcher.py:7: UserWarning: `Model.fit_generator` is deprecated and will be removed in a future version. Please use `Model.fit`, which supports generators.\n",
            "  import sys\n"
          ]
        },
        {
          "output_type": "stream",
          "name": "stdout",
          "text": [
            "Epoch 1/20\n",
            "67/67 [==============================] - 47s 496ms/step - loss: 0.5560 - accuracy: 0.7334 - val_loss: 0.8022 - val_accuracy: 0.6286\n",
            "Epoch 2/20\n",
            "67/67 [==============================] - 30s 440ms/step - loss: 0.3832 - accuracy: 0.8287 - val_loss: 1.1645 - val_accuracy: 0.4595\n",
            "Epoch 3/20\n",
            "67/67 [==============================] - 29s 425ms/step - loss: 0.3390 - accuracy: 0.8487 - val_loss: 0.9456 - val_accuracy: 0.6071\n",
            "Epoch 4/20\n",
            "67/67 [==============================] - 29s 425ms/step - loss: 0.3085 - accuracy: 0.8655 - val_loss: 1.0403 - val_accuracy: 0.5690\n",
            "Epoch 5/20\n",
            "67/67 [==============================] - 29s 425ms/step - loss: 0.2589 - accuracy: 0.8931 - val_loss: 1.0436 - val_accuracy: 0.6190\n",
            "Epoch 6/20\n",
            "67/67 [==============================] - 29s 428ms/step - loss: 0.2747 - accuracy: 0.8800 - val_loss: 1.0809 - val_accuracy: 0.5762\n",
            "Epoch 7/20\n",
            "67/67 [==============================] - 28s 424ms/step - loss: 0.2249 - accuracy: 0.9099 - val_loss: 1.1005 - val_accuracy: 0.5619\n",
            "Epoch 8/20\n",
            "67/67 [==============================] - 29s 439ms/step - loss: 0.2263 - accuracy: 0.9094 - val_loss: 1.0562 - val_accuracy: 0.5905\n",
            "Epoch 9/20\n",
            "67/67 [==============================] - 28s 421ms/step - loss: 0.2257 - accuracy: 0.9108 - val_loss: 1.0969 - val_accuracy: 0.6095\n",
            "Epoch 10/20\n",
            "67/67 [==============================] - 28s 422ms/step - loss: 0.2097 - accuracy: 0.9118 - val_loss: 1.1511 - val_accuracy: 0.5762\n",
            "Epoch 11/20\n",
            "67/67 [==============================] - 32s 470ms/step - loss: 0.1987 - accuracy: 0.9192 - val_loss: 1.1667 - val_accuracy: 0.6476\n",
            "Epoch 12/20\n",
            "67/67 [==============================] - 28s 423ms/step - loss: 0.1922 - accuracy: 0.9244 - val_loss: 1.1642 - val_accuracy: 0.5976\n",
            "Epoch 13/20\n",
            "67/67 [==============================] - 28s 424ms/step - loss: 0.1859 - accuracy: 0.9272 - val_loss: 1.1760 - val_accuracy: 0.5762\n",
            "Epoch 14/20\n",
            "67/67 [==============================] - 29s 439ms/step - loss: 0.2069 - accuracy: 0.9127 - val_loss: 1.1273 - val_accuracy: 0.6190\n",
            "Epoch 15/20\n",
            "67/67 [==============================] - 28s 422ms/step - loss: 0.2246 - accuracy: 0.9034 - val_loss: 1.0625 - val_accuracy: 0.6286\n",
            "Epoch 16/20\n",
            "67/67 [==============================] - 28s 421ms/step - loss: 0.1659 - accuracy: 0.9374 - val_loss: 1.1213 - val_accuracy: 0.6071\n",
            "Epoch 17/20\n",
            "67/67 [==============================] - 28s 419ms/step - loss: 0.1696 - accuracy: 0.9342 - val_loss: 1.0672 - val_accuracy: 0.6381\n",
            "Epoch 18/20\n",
            "67/67 [==============================] - 29s 432ms/step - loss: 0.2095 - accuracy: 0.9099 - val_loss: 1.2059 - val_accuracy: 0.5857\n",
            "Epoch 19/20\n",
            "67/67 [==============================] - 28s 424ms/step - loss: 0.1769 - accuracy: 0.9239 - val_loss: 1.2366 - val_accuracy: 0.5810\n",
            "Epoch 20/20\n",
            "67/67 [==============================] - 29s 425ms/step - loss: 0.1705 - accuracy: 0.9244 - val_loss: 1.1757 - val_accuracy: 0.5952\n"
          ]
        }
      ]
    },
    {
      "cell_type": "code",
      "source": [
        "# loss\n",
        "plt.plot(r.history['loss'], label='train loss')\n",
        "plt.plot(r.history['val_loss'], label='val loss')\n",
        "plt.legend()\n",
        "plt.show()\n",
        "plt.savefig('LossVal_loss')"
      ],
      "metadata": {
        "colab": {
          "base_uri": "https://localhost:8080/",
          "height": 282
        },
        "id": "1IOd8-Vbyhbo",
        "outputId": "3eda2c01-f162-46eb-f607-e2d78e32e06c"
      },
      "execution_count": null,
      "outputs": [
        {
          "output_type": "display_data",
          "data": {
            "text/plain": [
              "<Figure size 432x288 with 1 Axes>"
            ],
            "image/png": "[encoded data removed]"
          },
          "metadata": {
            "needs_background": "light"
          }
        },
        {
          "output_type": "display_data",
          "data": {
            "text/plain": [
              "<Figure size 432x288 with 0 Axes>"
            ]
          },
          "metadata": {}
        }
      ]
    },
    {
      "cell_type": "code",
      "source": [
        "# accuracies\n",
        "plt.plot(r.history['accuracy'], label='train acc')\n",
        "plt.plot(r.history['val_accuracy'], label='val acc')\n",
        "plt.legend()\n",
        "plt.show()\n",
        "plt.savefig('AccVal_accuracy')"
      ],
      "metadata": {
        "colab": {
          "base_uri": "https://localhost:8080/",
          "height": 282
        },
        "id": "-3mI6A7myj2J",
        "outputId": "7091a526-c5d5-4ee3-d591-8a68be5506a3"
      },
      "execution_count": null,
      "outputs": [
        {
          "output_type": "display_data",
          "data": {
            "text/plain": [
              "<Figure size 432x288 with 1 Axes>"
            ],
            "image/png": "[encoded data removed]"
          },
          "metadata": {
            "needs_background": "light"
          }
        },
        {
          "output_type": "display_data",
          "data": {
            "text/plain": [
              "<Figure size 432x288 with 0 Axes>"
            ]
          },
          "metadata": {}
        }
      ]
    },
    {
      "cell_type": "markdown",
      "source": [],
      "metadata": {
        "id": "7TYDVocfyVtD"
      }
    },
    {
      "cell_type": "markdown",
      "source": [
        "##ResnetV2"
      ],
      "metadata": {
        "id": "yufjNCJ9Cfdi"
      }
    },
    {
      "cell_type": "code",
      "source": [
        "# Common \n",
        "import os\n",
        "import keras\n",
        "import numpy as np \n",
        "import tensorflow as tf\n",
        "\n",
        "# Data\n",
        "import pandas as pd\n",
        "from keras.preprocessing.image import ImageDataGenerator\n",
        "\n",
        "# Data Visualization \n",
        "import plotly.express as px\n",
        "\n",
        "# Models\n",
        "from keras import Sequential\n",
        "from keras.layers import Dense, GlobalAveragePooling2D, Dropout, BatchNormalization\n",
        "from keras.callbacks import EarlyStopping, ModelCheckpoint\n",
        "from tensorflow.keras.applications import ResNet50V2"
      ],
      "metadata": {
        "id": "viobLnFaCjJ7"
      },
      "execution_count": null,
      "outputs": []
    },
    {
      "cell_type": "code",
      "source": [
        "info_file = '../content/Monkeypox_Dataset_metadata.csv'\n",
        "info = pd.read_csv(info_file)\n",
        "info.head()"
      ],
      "metadata": {
        "colab": {
          "base_uri": "https://localhost:8080/",
          "height": 206
        },
        "id": "L3wAty9rCqQc",
        "outputId": "7925033d-3c0c-4baa-e075-15516e2135c8"
      },
      "execution_count": null,
      "outputs": [
        {
          "output_type": "execute_result",
          "data": {
            "text/plain": [
              "  ImageID      Label\n",
              "0  M01_01  Monkeypox\n",
              "1  M01_02  Monkeypox\n",
              "2  M01_03  Monkeypox\n",
              "3  M01_04  Monkeypox\n",
              "4  M02_01  Monkeypox"
            ],
            "text/html": [
              "\n",
              "  <div id=\"df-e0c4591a-67b8-49f6-a327-4068946644ec\">\n",
              "    <div class=\"colab-df-container\">\n",
              "      <div>\n",
              "<style scoped>\n",
              "    .dataframe tbody tr th:only-of-type {\n",
              "        vertical-align: middle;\n",
              "    }\n",
              "\n",
              "    .dataframe tbody tr th {\n",
              "        vertical-align: top;\n",
              "    }\n",
              "\n",
              "    .dataframe thead th {\n",
              "        text-align: right;\n",
              "    }\n",
              "</style>\n",
              "<table border=\"1\" class=\"dataframe\">\n",
              "  <thead>\n",
              "    <tr style=\"text-align: right;\">\n",
              "      <th></th>\n",
              "      <th>ImageID</th>\n",
              "      <th>Label</th>\n",
              "    </tr>\n",
              "  </thead>\n",
              "  <tbody>\n",
              "    <tr>\n",
              "      <th>0</th>\n",
              "      <td>M01_01</td>\n",
              "      <td>Monkeypox</td>\n",
              "    </tr>\n",
              "    <tr>\n",
              "      <th>1</th>\n",
              "      <td>M01_02</td>\n",
              "      <td>Monkeypox</td>\n",
              "    </tr>\n",
              "    <tr>\n",
              "      <th>2</th>\n",
              "      <td>M01_03</td>\n",
              "      <td>Monkeypox</td>\n",
              "    </tr>\n",
              "    <tr>\n",
              "      <th>3</th>\n",
              "      <td>M01_04</td>\n",
              "      <td>Monkeypox</td>\n",
              "    </tr>\n",
              "    <tr>\n",
              "      <th>4</th>\n",
              "      <td>M02_01</td>\n",
              "      <td>Monkeypox</td>\n",
              "    </tr>\n",
              "  </tbody>\n",
              "</table>\n",
              "</div>\n",
              "      <button class=\"colab-df-convert\" onclick=\"convertToInteractive('df-e0c4591a-67b8-49f6-a327-4068946644ec')\"\n",
              "              title=\"Convert this dataframe to an interactive table.\"\n",
              "              style=\"display:none;\">\n",
              "        \n",
              "  <svg xmlns=\"http://www.w3.org/2000/svg\" height=\"24px\"viewBox=\"0 0 24 24\"\n",
              "       width=\"24px\">\n",
              "    <path d=\"M0 0h24v24H0V0z\" fill=\"none\"/>\n",
              "    <path d=\"M18.56 5.44l.94 2.06.94-2.06 2.06-.94-2.06-.94-.94-2.06-.94 2.06-2.06.94zm-11 1L8.5 8.5l.94-2.06 2.06-.94-2.06-.94L8.5 2.5l-.94 2.06-2.06.94zm10 10l.94 2.06.94-2.06 2.06-.94-2.06-.94-.94-2.06-.94 2.06-2.06.94z\"/><path d=\"M17.41 7.96l-1.37-1.37c-.4-.4-.92-.59-1.43-.59-.52 0-1.04.2-1.43.59L10.3 9.45l-7.72 7.72c-.78.78-.78 2.05 0 2.83L4 21.41c.39.39.9.59 1.41.59.51 0 1.02-.2 1.41-.59l7.78-7.78 2.81-2.81c.8-.78.8-2.07 0-2.86zM5.41 20L4 18.59l7.72-7.72 1.47 1.35L5.41 20z\"/>\n",
              "  </svg>\n",
              "      </button>\n",
              "      \n",
              "  <style>\n",
              "    .colab-df-container {\n",
              "      display:flex;\n",
              "      flex-wrap:wrap;\n",
              "      gap: 12px;\n",
              "    }\n",
              "\n",
              "    .colab-df-convert {\n",
              "      background-color: #E8F0FE;\n",
              "      border: none;\n",
              "      border-radius: 50%;\n",
              "      cursor: pointer;\n",
              "      display: none;\n",
              "      fill: #1967D2;\n",
              "      height: 32px;\n",
              "      padding: 0 0 0 0;\n",
              "      width: 32px;\n",
              "    }\n",
              "\n",
              "    .colab-df-convert:hover {\n",
              "      background-color: #E2EBFA;\n",
              "      box-shadow: 0px 1px 2px rgba(60, 64, 67, 0.3), 0px 1px 3px 1px rgba(60, 64, 67, 0.15);\n",
              "      fill: #174EA6;\n",
              "    }\n",
              "\n",
              "    [theme=dark] .colab-df-convert {\n",
              "      background-color: #3B4455;\n",
              "      fill: #D2E3FC;\n",
              "    }\n",
              "\n",
              "    [theme=dark] .colab-df-convert:hover {\n",
              "      background-color: #434B5C;\n",
              "      box-shadow: 0px 1px 3px 1px rgba(0, 0, 0, 0.15);\n",
              "      filter: drop-shadow(0px 1px 2px rgba(0, 0, 0, 0.3));\n",
              "      fill: #FFFFFF;\n",
              "    }\n",
              "  </style>\n",
              "\n",
              "      <script>\n",
              "        const buttonEl =\n",
              "          document.querySelector('#df-e0c4591a-67b8-49f6-a327-4068946644ec button.colab-df-convert');\n",
              "        buttonEl.style.display =\n",
              "          google.colab.kernel.accessAllowed ? 'block' : 'none';\n",
              "\n",
              "        async function convertToInteractive(key) {\n",
              "          const element = document.querySelector('#df-e0c4591a-67b8-49f6-a327-4068946644ec');\n",
              "          const dataTable =\n",
              "            await google.colab.kernel.invokeFunction('convertToInteractive',\n",
              "                                                     [key], {});\n",
              "          if (!dataTable) return;\n",
              "\n",
              "          const docLinkHtml = 'Like what you see? Visit the ' +\n",
              "            '<a target=\"_blank\" href=https://colab.research.google.com/notebooks/data_table.ipynb>data table notebook</a>'\n",
              "            + ' to learn more about interactive tables.';\n",
              "          element.innerHTML = '';\n",
              "          dataTable['output_type'] = 'display_data';\n",
              "          await google.colab.output.renderOutput(dataTable, element);\n",
              "          const docLink = document.createElement('div');\n",
              "          docLink.innerHTML = docLinkHtml;\n",
              "          element.appendChild(docLink);\n",
              "        }\n",
              "      </script>\n",
              "    </div>\n",
              "  </div>\n",
              "  "
            ]
          },
          "metadata": {},
          "execution_count": 22
        }
      ]
    },
    {
      "cell_type": "code",
      "source": [
        "fig = px.pie(\n",
        "    names=info.Label.unique(),\n",
        "    values=info.Label.value_counts(),\n",
        "    hole=0.2,\n",
        "    width=500,\n",
        "    height=500\n",
        ")\n",
        "fig.update_layout({'title':{'text':'Class Distribution','x':0.45}})\n",
        "fig.show()"
      ],
      "metadata": {
        "colab": {
          "base_uri": "https://localhost:8080/",
          "height": 517
        },
        "id": "_b9fMSU6C64X",
        "outputId": "2b0d584f-582c-40e3-fcf4-ebb7940c1e7d"
      },
      "execution_count": null,
      "outputs": [
        {
          "output_type": "display_data",
          "data": {
            "text/html": [
              "<html>\n",
              "<head><meta charset=\"utf-8\" /></head>\n",
              "<body>\n",
              "    <div>            <script src=\"https://cdnjs.cloudflare.com/ajax/libs/mathjax/2.7.5/MathJax.js?config=TeX-AMS-MML_SVG\"></script><script type=\"text/javascript\">if (window.MathJax) {MathJax.Hub.Config({SVG: {font: \"STIX-Web\"}});}</script>                <script type=\"text/javascript\">window.PlotlyConfig = {MathJaxConfig: 'local'};</script>\n",
              "        <script src=\"https://cdn.plot.ly/plotly-2.8.3.min.js\"></script>                <div id=\"b6635e83-b78b-47e1-8e37-cbfef9196508\" class=\"plotly-graph-div\" style=\"height:500px; width:500px;\"></div>            <script type=\"text/javascript\">                                    window.PLOTLYENV=window.PLOTLYENV || {};                                    if (document.getElementById(\"b6635e83-b78b-47e1-8e37-cbfef9196508\")) {                    Plotly.newPlot(                        \"b6635e83-b78b-47e1-8e37-cbfef9196508\",                        [{\"domain\":{\"x\":[0.0,1.0],\"y\":[0.0,1.0]},\"hole\":0.2,\"hovertemplate\":\"label=%{label}<br>value=%{value}<extra></extra>\",\"labels\":[\"Monkeypox\",\"Non Monkeypox\"],\"legendgroup\":\"\",\"name\":\"\",\"showlegend\":true,\"values\":[126,102],\"type\":\"pie\"}],                        {\"template\":{\"data\":{\"bar\":[{\"error_x\":{\"color\":\"#2a3f5f\"},\"error_y\":{\"color\":\"#2a3f5f\"},\"marker\":{\"line\":{\"color\":\"#E5ECF6\",\"width\":0.5},\"pattern\":{\"fillmode\":\"overlay\",\"size\":10,\"solidity\":0.2}},\"type\":\"bar\"}],\"barpolar\":[{\"marker\":{\"line\":{\"color\":\"#E5ECF6\",\"width\":0.5},\"pattern\":{\"fillmode\":\"overlay\",\"size\":10,\"solidity\":0.2}},\"type\":\"barpolar\"}],\"carpet\":[{\"aaxis\":{\"endlinecolor\":\"#2a3f5f\",\"gridcolor\":\"white\",\"linecolor\":\"white\",\"minorgridcolor\":\"white\",\"startlinecolor\":\"#2a3f5f\"},\"baxis\":{\"endlinecolor\":\"#2a3f5f\",\"gridcolor\":\"white\",\"linecolor\":\"white\",\"minorgridcolor\":\"white\",\"startlinecolor\":\"#2a3f5f\"},\"type\":\"carpet\"}],\"choropleth\":[{\"colorbar\":{\"outlinewidth\":0,\"ticks\":\"\"},\"type\":\"choropleth\"}],\"contour\":[{\"colorbar\":{\"outlinewidth\":0,\"ticks\":\"\"},\"colorscale\":[[0.0,\"#0d0887\"],[0.1111111111111111,\"#46039f\"],[0.2222222222222222,\"#7201a8\"],[0.3333333333333333,\"#9c179e\"],[0.4444444444444444,\"#bd3786\"],[0.5555555555555556,\"#d8576b\"],[0.6666666666666666,\"#ed7953\"],[0.7777777777777778,\"#fb9f3a\"],[0.8888888888888888,\"#fdca26\"],[1.0,\"#f0f921\"]],\"type\":\"contour\"}],\"contourcarpet\":[{\"colorbar\":{\"outlinewidth\":0,\"ticks\":\"\"},\"type\":\"contourcarpet\"}],\"heatmap\":[{\"colorbar\":{\"outlinewidth\":0,\"ticks\":\"\"},\"colorscale\":[[0.0,\"#0d0887\"],[0.1111111111111111,\"#46039f\"],[0.2222222222222222,\"#7201a8\"],[0.3333333333333333,\"#9c179e\"],[0.4444444444444444,\"#bd3786\"],[0.5555555555555556,\"#d8576b\"],[0.6666666666666666,\"#ed7953\"],[0.7777777777777778,\"#fb9f3a\"],[0.8888888888888888,\"#fdca26\"],[1.0,\"#f0f921\"]],\"type\":\"heatmap\"}],\"heatmapgl\":[{\"colorbar\":{\"outlinewidth\":0,\"ticks\":\"\"},\"colorscale\":[[0.0,\"#0d0887\"],[0.1111111111111111,\"#46039f\"],[0.2222222222222222,\"#7201a8\"],[0.3333333333333333,\"#9c179e\"],[0.4444444444444444,\"#bd3786\"],[0.5555555555555556,\"#d8576b\"],[0.6666666666666666,\"#ed7953\"],[0.7777777777777778,\"#fb9f3a\"],[0.8888888888888888,\"#fdca26\"],[1.0,\"#f0f921\"]],\"type\":\"heatmapgl\"}],\"histogram\":[{\"marker\":{\"pattern\":{\"fillmode\":\"overlay\",\"size\":10,\"solidity\":0.2}},\"type\":\"histogram\"}],\"histogram2d\":[{\"colorbar\":{\"outlinewidth\":0,\"ticks\":\"\"},\"colorscale\":[[0.0,\"#0d0887\"],[0.1111111111111111,\"#46039f\"],[0.2222222222222222,\"#7201a8\"],[0.3333333333333333,\"#9c179e\"],[0.4444444444444444,\"#bd3786\"],[0.5555555555555556,\"#d8576b\"],[0.6666666666666666,\"#ed7953\"],[0.7777777777777778,\"#fb9f3a\"],[0.8888888888888888,\"#fdca26\"],[1.0,\"#f0f921\"]],\"type\":\"histogram2d\"}],\"histogram2dcontour\":[{\"colorbar\":{\"outlinewidth\":0,\"ticks\":\"\"},\"colorscale\":[[0.0,\"#0d0887\"],[0.1111111111111111,\"#46039f\"],[0.2222222222222222,\"#7201a8\"],[0.3333333333333333,\"#9c179e\"],[0.4444444444444444,\"#bd3786\"],[0.5555555555555556,\"#d8576b\"],[0.6666666666666666,\"#ed7953\"],[0.7777777777777778,\"#fb9f3a\"],[0.8888888888888888,\"#fdca26\"],[1.0,\"#f0f921\"]],\"type\":\"histogram2dcontour\"}],\"mesh3d\":[{\"colorbar\":{\"outlinewidth\":0,\"ticks\":\"\"},\"type\":\"mesh3d\"}],\"parcoords\":[{\"line\":{\"colorbar\":{\"outlinewidth\":0,\"ticks\":\"\"}},\"type\":\"parcoords\"}],\"pie\":[{\"automargin\":true,\"type\":\"pie\"}],\"scatter\":[{\"marker\":{\"colorbar\":{\"outlinewidth\":0,\"ticks\":\"\"}},\"type\":\"scatter\"}],\"scatter3d\":[{\"line\":{\"colorbar\":{\"outlinewidth\":0,\"ticks\":\"\"}},\"marker\":{\"colorbar\":{\"outlinewidth\":0,\"ticks\":\"\"}},\"type\":\"scatter3d\"}],\"scattercarpet\":[{\"marker\":{\"colorbar\":{\"outlinewidth\":0,\"ticks\":\"\"}},\"type\":\"scattercarpet\"}],\"scattergeo\":[{\"marker\":{\"colorbar\":{\"outlinewidth\":0,\"ticks\":\"\"}},\"type\":\"scattergeo\"}],\"scattergl\":[{\"marker\":{\"colorbar\":{\"outlinewidth\":0,\"ticks\":\"\"}},\"type\":\"scattergl\"}],\"scattermapbox\":[{\"marker\":{\"colorbar\":{\"outlinewidth\":0,\"ticks\":\"\"}},\"type\":\"scattermapbox\"}],\"scatterpolar\":[{\"marker\":{\"colorbar\":{\"outlinewidth\":0,\"ticks\":\"\"}},\"type\":\"scatterpolar\"}],\"scatterpolargl\":[{\"marker\":{\"colorbar\":{\"outlinewidth\":0,\"ticks\":\"\"}},\"type\":\"scatterpolargl\"}],\"scatterternary\":[{\"marker\":{\"colorbar\":{\"outlinewidth\":0,\"ticks\":\"\"}},\"type\":\"scatterternary\"}],\"surface\":[{\"colorbar\":{\"outlinewidth\":0,\"ticks\":\"\"},\"colorscale\":[[0.0,\"#0d0887\"],[0.1111111111111111,\"#46039f\"],[0.2222222222222222,\"#7201a8\"],[0.3333333333333333,\"#9c179e\"],[0.4444444444444444,\"#bd3786\"],[0.5555555555555556,\"#d8576b\"],[0.6666666666666666,\"#ed7953\"],[0.7777777777777778,\"#fb9f3a\"],[0.8888888888888888,\"#fdca26\"],[1.0,\"#f0f921\"]],\"type\":\"surface\"}],\"table\":[{\"cells\":{\"fill\":{\"color\":\"#EBF0F8\"},\"line\":{\"color\":\"white\"}},\"header\":{\"fill\":{\"color\":\"#C8D4E3\"},\"line\":{\"color\":\"white\"}},\"type\":\"table\"}]},\"layout\":{\"annotationdefaults\":{\"arrowcolor\":\"#2a3f5f\",\"arrowhead\":0,\"arrowwidth\":1},\"autotypenumbers\":\"strict\",\"coloraxis\":{\"colorbar\":{\"outlinewidth\":0,\"ticks\":\"\"}},\"colorscale\":{\"diverging\":[[0,\"#8e0152\"],[0.1,\"#c51b7d\"],[0.2,\"#de77ae\"],[0.3,\"#f1b6da\"],[0.4,\"#fde0ef\"],[0.5,\"#f7f7f7\"],[0.6,\"#e6f5d0\"],[0.7,\"#b8e186\"],[0.8,\"#7fbc41\"],[0.9,\"#4d9221\"],[1,\"#276419\"]],\"sequential\":[[0.0,\"#0d0887\"],[0.1111111111111111,\"#46039f\"],[0.2222222222222222,\"#7201a8\"],[0.3333333333333333,\"#9c179e\"],[0.4444444444444444,\"#bd3786\"],[0.5555555555555556,\"#d8576b\"],[0.6666666666666666,\"#ed7953\"],[0.7777777777777778,\"#fb9f3a\"],[0.8888888888888888,\"#fdca26\"],[1.0,\"#f0f921\"]],\"sequentialminus\":[[0.0,\"#0d0887\"],[0.1111111111111111,\"#46039f\"],[0.2222222222222222,\"#7201a8\"],[0.3333333333333333,\"#9c179e\"],[0.4444444444444444,\"#bd3786\"],[0.5555555555555556,\"#d8576b\"],[0.6666666666666666,\"#ed7953\"],[0.7777777777777778,\"#fb9f3a\"],[0.8888888888888888,\"#fdca26\"],[1.0,\"#f0f921\"]]},\"colorway\":[\"#636efa\",\"#EF553B\",\"#00cc96\",\"#ab63fa\",\"#FFA15A\",\"#19d3f3\",\"#FF6692\",\"#B6E880\",\"#FF97FF\",\"#FECB52\"],\"font\":{\"color\":\"#2a3f5f\"},\"geo\":{\"bgcolor\":\"white\",\"lakecolor\":\"white\",\"landcolor\":\"#E5ECF6\",\"showlakes\":true,\"showland\":true,\"subunitcolor\":\"white\"},\"hoverlabel\":{\"align\":\"left\"},\"hovermode\":\"closest\",\"mapbox\":{\"style\":\"light\"},\"paper_bgcolor\":\"white\",\"plot_bgcolor\":\"#E5ECF6\",\"polar\":{\"angularaxis\":{\"gridcolor\":\"white\",\"linecolor\":\"white\",\"ticks\":\"\"},\"bgcolor\":\"#E5ECF6\",\"radialaxis\":{\"gridcolor\":\"white\",\"linecolor\":\"white\",\"ticks\":\"\"}},\"scene\":{\"xaxis\":{\"backgroundcolor\":\"#E5ECF6\",\"gridcolor\":\"white\",\"gridwidth\":2,\"linecolor\":\"white\",\"showbackground\":true,\"ticks\":\"\",\"zerolinecolor\":\"white\"},\"yaxis\":{\"backgroundcolor\":\"#E5ECF6\",\"gridcolor\":\"white\",\"gridwidth\":2,\"linecolor\":\"white\",\"showbackground\":true,\"ticks\":\"\",\"zerolinecolor\":\"white\"},\"zaxis\":{\"backgroundcolor\":\"#E5ECF6\",\"gridcolor\":\"white\",\"gridwidth\":2,\"linecolor\":\"white\",\"showbackground\":true,\"ticks\":\"\",\"zerolinecolor\":\"white\"}},\"shapedefaults\":{\"line\":{\"color\":\"#2a3f5f\"}},\"ternary\":{\"aaxis\":{\"gridcolor\":\"white\",\"linecolor\":\"white\",\"ticks\":\"\"},\"baxis\":{\"gridcolor\":\"white\",\"linecolor\":\"white\",\"ticks\":\"\"},\"bgcolor\":\"#E5ECF6\",\"caxis\":{\"gridcolor\":\"white\",\"linecolor\":\"white\",\"ticks\":\"\"}},\"title\":{\"x\":0.05},\"xaxis\":{\"automargin\":true,\"gridcolor\":\"white\",\"linecolor\":\"white\",\"ticks\":\"\",\"title\":{\"standoff\":15},\"zerolinecolor\":\"white\",\"zerolinewidth\":2},\"yaxis\":{\"automargin\":true,\"gridcolor\":\"white\",\"linecolor\":\"white\",\"ticks\":\"\",\"title\":{\"standoff\":15},\"zerolinecolor\":\"white\",\"zerolinewidth\":2}}},\"legend\":{\"tracegroupgap\":0},\"margin\":{\"t\":60},\"height\":500,\"width\":500,\"title\":{\"text\":\"Class Distribution\",\"x\":0.45}},                        {\"responsive\": true}                    ).then(function(){\n",
              "                            \n",
              "var gd = document.getElementById('b6635e83-b78b-47e1-8e37-cbfef9196508');\n",
              "var x = new MutationObserver(function (mutations, observer) {{\n",
              "        var display = window.getComputedStyle(gd).display;\n",
              "        if (!display || display === 'none') {{\n",
              "            console.log([gd, 'removed!']);\n",
              "            Plotly.purge(gd);\n",
              "            observer.disconnect();\n",
              "        }}\n",
              "}});\n",
              "\n",
              "// Listen for the removal of the full notebook cells\n",
              "var notebookContainer = gd.closest('#notebook-container');\n",
              "if (notebookContainer) {{\n",
              "    x.observe(notebookContainer, {childList: true});\n",
              "}}\n",
              "\n",
              "// Listen for the clearing of the current output cell\n",
              "var outputEl = gd.closest('.output');\n",
              "if (outputEl) {{\n",
              "    x.observe(outputEl, {childList: true});\n",
              "}}\n",
              "\n",
              "                        })                };                            </script>        </div>\n",
              "</body>\n",
              "</html>"
            ]
          },
          "metadata": {}
        }
      ]
    },
    {
      "cell_type": "code",
      "source": [
        "# # Data Generators\n",
        "# train_gen = ImageDataGenerator(rescale=1./255)\n",
        "# valid_gen = ImageDataGenerator(rescale=1./255,validation_split=0.4)\n",
        "\n",
        "# # Loading Data\n",
        "# train_data = train_gen.flow_from_directory(\"../content/monkeypox_and_others_small/train\",target_size=(256,256),shuffle=True,class_mode='binary')\n",
        "# valid_data = valid_gen.flow_from_directory('../content/Original Images/Original Images',target_size=(256,256),shuffle=True,subset='training',class_mode='binary')\n",
        "# test_data = valid_gen.flow_from_directory('../content/Original Images/Original Images',target_size=(256,256),shuffle=True,subset='validation',class_mode='binary')"
      ],
      "metadata": {
        "colab": {
          "base_uri": "https://localhost:8080/"
        },
        "id": "H7qnZoR4DDe5",
        "outputId": "940711e3-9b65-4b24-f09a-dddad4aea146"
      },
      "execution_count": null,
      "outputs": [
        {
          "output_type": "stream",
          "name": "stdout",
          "text": [
            "Found 2142 images belonging to 2 classes.\n",
            "Found 138 images belonging to 2 classes.\n",
            "Found 90 images belonging to 2 classes.\n"
          ]
        }
      ]
    },
    {
      "cell_type": "code",
      "source": [
        "# Data Generators\n",
        "train_gen = ImageDataGenerator(rescale=1./255)\n",
        "valid_gen = ImageDataGenerator(rescale=1./255,validation_split=0.4)\n",
        "\n",
        "# Loading Data\n",
        "train_data = train_gen.flow_from_directory(\"../content/monkeypox_and_others_small/train\",target_size=(256,256),shuffle=True,batch_size =  16,class_mode='binary')\n",
        "valid_data = valid_gen.flow_from_directory('../content/Original Images/Original Images',target_size=(256,256),shuffle=False,batch_size =  16,subset='training',class_mode='binary')\n",
        "test_data = valid_gen.flow_from_directory('../content/Original Images/Original Images',target_size=(256,256),shuffle=False,batch_size =  16,subset='validation',class_mode='binary')"
      ],
      "metadata": {
        "colab": {
          "base_uri": "https://localhost:8080/"
        },
        "id": "LxUhBQ4tjQEH",
        "outputId": "5d9decff-6a1a-46a2-9a66-10c1ac254b46"
      },
      "execution_count": null,
      "outputs": [
        {
          "output_type": "stream",
          "name": "stdout",
          "text": [
            "Found 2142 images belonging to 2 classes.\n",
            "Found 138 images belonging to 2 classes.\n",
            "Found 90 images belonging to 2 classes.\n"
          ]
        }
      ]
    },
    {
      "cell_type": "code",
      "source": [
        "#Model Structure : \n",
        "with tf.device('/GPU:0'):\n",
        "   base_model = ResNet50V2(\n",
        "       include_top=False,\n",
        "       input_shape=(256,256,3)\n",
        "   )\n",
        "   base_model.trainable = False\n",
        "\n",
        "   model = Sequential([\n",
        "       base_model,\n",
        "       GlobalAveragePooling2D(),\n",
        "       Dense(256,activation='relu'),\n",
        "       BatchNormalization(),\n",
        "       Dense(164,activation='relu'),\n",
        "       BatchNormalization(),\n",
        "       Dense(1,activation='sigmoid')\n",
        "   ])\n",
        "\n",
        "   model.compile(optimizer=tf.keras.optimizers.Adam(lr=0.001),\n",
        "       loss='binary_crossentropy',\n",
        "       \n",
        "       metrics=['accuracy']\n",
        "   )\n",
        "  #  early = EarlyStopping(monitor='val_accuracy', min_delta=0, patience=20, verbose=2, mode='auto')\n",
        "\n",
        "   cb = [EarlyStopping(patience=5,monitor='val_accuracy',mode='auto',restore_best_weights=True),ModelCheckpoint(\"ResNet50V2-01.h5\",save_best_only=True)]\n",
        "\n",
        "   history=model.fit(\n",
        "       train_data,\n",
        "       epochs=100,\n",
        "       validation_data=valid_data,\n",
        "       steps_per_epoch=15,\n",
        "       callbacks=cb\n",
        "   )"
      ],
      "metadata": {
        "colab": {
          "base_uri": "https://localhost:8080/"
        },
        "id": "GHORPtOpDnx5",
        "outputId": "68046ff8-932f-434d-e2b0-4c006dbc7a49"
      },
      "execution_count": null,
      "outputs": [
        {
          "output_type": "stream",
          "name": "stdout",
          "text": [
            "Epoch 1/100\n",
            "15/15 [==============================] - 7s 257ms/step - loss: 0.5912 - accuracy: 0.7167 - val_loss: 0.5643 - val_accuracy: 0.6594\n",
            "Epoch 2/100\n",
            "15/15 [==============================] - 2s 151ms/step - loss: 0.4891 - accuracy: 0.7983 - val_loss: 0.4143 - val_accuracy: 0.7899\n",
            "Epoch 3/100\n",
            "15/15 [==============================] - 2s 150ms/step - loss: 0.2957 - accuracy: 0.8667 - val_loss: 0.3589 - val_accuracy: 0.8261\n",
            "Epoch 4/100\n",
            "15/15 [==============================] - 2s 165ms/step - loss: 0.2200 - accuracy: 0.9125 - val_loss: 0.2921 - val_accuracy: 0.8623\n",
            "Epoch 5/100\n",
            "15/15 [==============================] - 2s 150ms/step - loss: 0.2321 - accuracy: 0.9125 - val_loss: 0.2911 - val_accuracy: 0.9130\n",
            "Epoch 6/100\n",
            "15/15 [==============================] - 2s 109ms/step - loss: 0.2472 - accuracy: 0.9125 - val_loss: 0.2938 - val_accuracy: 0.8986\n",
            "Epoch 7/100\n",
            "15/15 [==============================] - 2s 141ms/step - loss: 0.2094 - accuracy: 0.9208 - val_loss: 0.2782 - val_accuracy: 0.9058\n",
            "Epoch 8/100\n",
            "15/15 [==============================] - 2s 141ms/step - loss: 0.1469 - accuracy: 0.9458 - val_loss: 0.2637 - val_accuracy: 0.8913\n",
            "Epoch 9/100\n",
            "15/15 [==============================] - 2s 146ms/step - loss: 0.1358 - accuracy: 0.9496 - val_loss: 0.1932 - val_accuracy: 0.9130\n",
            "Epoch 10/100\n",
            "15/15 [==============================] - 2s 118ms/step - loss: 0.1562 - accuracy: 0.9375 - val_loss: 0.1978 - val_accuracy: 0.9203\n",
            "Epoch 11/100\n",
            "15/15 [==============================] - 2s 109ms/step - loss: 0.1789 - accuracy: 0.9167 - val_loss: 0.2335 - val_accuracy: 0.9058\n",
            "Epoch 12/100\n",
            "15/15 [==============================] - 2s 168ms/step - loss: 0.1358 - accuracy: 0.9375 - val_loss: 0.1605 - val_accuracy: 0.9348\n",
            "Epoch 13/100\n",
            "15/15 [==============================] - 2s 109ms/step - loss: 0.1775 - accuracy: 0.9454 - val_loss: 0.1838 - val_accuracy: 0.9203\n",
            "Epoch 14/100\n",
            "15/15 [==============================] - 2s 109ms/step - loss: 0.0882 - accuracy: 0.9750 - val_loss: 0.1775 - val_accuracy: 0.9348\n",
            "Epoch 15/100\n",
            "15/15 [==============================] - 2s 109ms/step - loss: 0.1613 - accuracy: 0.9417 - val_loss: 0.1982 - val_accuracy: 0.9275\n",
            "Epoch 16/100\n",
            "15/15 [==============================] - 2s 108ms/step - loss: 0.1315 - accuracy: 0.9583 - val_loss: 0.1931 - val_accuracy: 0.9130\n",
            "Epoch 17/100\n",
            "15/15 [==============================] - 2s 117ms/step - loss: 0.0955 - accuracy: 0.9625 - val_loss: 0.2028 - val_accuracy: 0.9348\n"
          ]
        }
      ]
    },
    {
      "cell_type": "code",
      "source": [
        "# loss\n",
        "plt.plot(history.history['loss'], label='train loss')\n",
        "plt.plot(history.history['val_loss'], label='val loss')\n",
        "plt.legend()\n",
        "plt.show()\n",
        "plt.savefig('LossVal_loss')"
      ],
      "metadata": {
        "colab": {
          "base_uri": "https://localhost:8080/",
          "height": 282
        },
        "id": "gBalILrKHUOS",
        "outputId": "1e283aa4-b8df-49e5-bc7f-cf97853c9dba"
      },
      "execution_count": null,
      "outputs": [
        {
          "output_type": "display_data",
          "data": {
            "text/plain": [
              "<Figure size 432x288 with 1 Axes>"
            ],
            "image/png": "[encoded data removed]"
          },
          "metadata": {
            "needs_background": "light"
          }
        },
        {
          "output_type": "display_data",
          "data": {
            "text/plain": [
              "<Figure size 432x288 with 0 Axes>"
            ]
          },
          "metadata": {}
        }
      ]
    },
    {
      "cell_type": "code",
      "source": [
        "# accuracies\n",
        "plt.plot(history.history['accuracy'], label='train acc')\n",
        "plt.plot(history.history['val_accuracy'], label='val acc')\n",
        "plt.legend()\n",
        "plt.show()\n",
        "plt.savefig('AccVal_accuracy')"
      ],
      "metadata": {
        "id": "OBTd8diuksO4",
        "colab": {
          "base_uri": "https://localhost:8080/",
          "height": 282
        },
        "outputId": "d9dc6d1e-edc1-4ce8-e77d-ba5b1cd26fb3"
      },
      "execution_count": null,
      "outputs": [
        {
          "output_type": "display_data",
          "data": {
            "text/plain": [
              "<Figure size 432x288 with 1 Axes>"
            ],
            "image/png": "[encoded data removed]"
          },
          "metadata": {
            "needs_background": "light"
          }
        },
        {
          "output_type": "display_data",
          "data": {
            "text/plain": [
              "<Figure size 432x288 with 0 Axes>"
            ]
          },
          "metadata": {}
        }
      ]
    },
    {
      "cell_type": "markdown",
      "source": [
        "VGG16 NEW"
      ],
      "metadata": {
        "id": "srtGjRY7e1Ny"
      }
    },
    {
      "cell_type": "code",
      "source": [
        "from keras.layers import Input, Lambda, Dense, Flatten\n",
        "from keras.models import Model\n",
        "from keras.applications.vgg16 import VGG16\n",
        "from keras.applications.vgg16 import preprocess_input\n",
        "from tensorflow.keras import layers, Model\n",
        "from keras.preprocessing import image\n",
        "from keras.preprocessing.image import ImageDataGenerator\n",
        "from keras.models import Sequential\n",
        "import numpy as np\n",
        "from glob import glob\n",
        "import matplotlib.pyplot as plt\n",
        "\n",
        "import warnings\n",
        "warnings.filterwarnings(\"ignore\", category=FutureWarning)"
      ],
      "metadata": {
        "id": "K9jyn11ee26P"
      },
      "execution_count": null,
      "outputs": []
    },
    {
      "cell_type": "code",
      "source": [
        "IMAGE_SIZE = [224, 224]"
      ],
      "metadata": {
        "id": "7HtnsibHe6Yw"
      },
      "execution_count": null,
      "outputs": []
    },
    {
      "cell_type": "code",
      "source": [
        "vgg = VGG16(input_shape=IMAGE_SIZE + [3], weights='imagenet', include_top=False)"
      ],
      "metadata": {
        "id": "I9vnVPmae-TB"
      },
      "execution_count": null,
      "outputs": []
    },
    {
      "cell_type": "code",
      "source": [
        "vgg.input"
      ],
      "metadata": {
        "colab": {
          "base_uri": "https://localhost:8080/"
        },
        "id": "ijsdfIgAfCJs",
        "outputId": "af3b4a36-39d2-40b7-f5b3-97e7c5668eb7"
      },
      "execution_count": null,
      "outputs": [
        {
          "output_type": "execute_result",
          "data": {
            "text/plain": [
              "<KerasTensor: shape=(None, 224, 224, 3) dtype=float32 (created by layer 'input_2')>"
            ]
          },
          "metadata": {},
          "execution_count": 43
        }
      ]
    },
    {
      "cell_type": "code",
      "source": [
        "for layer in vgg.layers:\n",
        "  layer.trainable = False"
      ],
      "metadata": {
        "id": "97K1p89hfE9t"
      },
      "execution_count": null,
      "outputs": []
    },
    {
      "cell_type": "code",
      "source": [
        "folders = glob('/content/monkeypox_and_others_small/train/*')\n",
        "print(len(folders))"
      ],
      "metadata": {
        "colab": {
          "base_uri": "https://localhost:8080/"
        },
        "id": "ih4HIj6WfHhF",
        "outputId": "1d5697d6-ec5d-4267-a95f-eafb4387c4b0"
      },
      "execution_count": null,
      "outputs": [
        {
          "output_type": "stream",
          "name": "stdout",
          "text": [
            "2\n"
          ]
        }
      ]
    },
    {
      "cell_type": "code",
      "source": [
        "# x = Flatten()(vgg.output)\n",
        "# prediction = Dense(len(folders), activation='softmax')(x)\n",
        "# model = Model(inputs=vgg.input, outputs=prediction)\n",
        "# model.summary()\n",
        "def lw(bottom_model, num_classes):\n",
        "   \n",
        "\n",
        "    top_model = bottom_model.output\n",
        "    top_model = GlobalAveragePooling2D()(top_model)\n",
        "    top_model = Dense(1024,activation='relu')(top_model)\n",
        "    top_model = Dense(1024,activation='relu')(top_model)\n",
        "    top_model = Dense(512,activation='relu')(top_model)\n",
        "    top_model = Dense(num_classes,activation='softmax')(top_model)\n",
        "    return top_model "
      ],
      "metadata": {
        "id": "KtjTWctHfKS8"
      },
      "execution_count": null,
      "outputs": []
    },
    {
      "cell_type": "code",
      "source": [
        "from keras.models import Sequential\n",
        "from keras.layers import Dense, Dropout, Activation, Flatten, GlobalAveragePooling2D\n",
        "from keras.layers import Conv2D, MaxPooling2D, ZeroPadding2D\n",
        "\n",
        "from keras.models import Model\n",
        "\n",
        "\n",
        "num_classes = 2\n",
        "\n",
        "FC_Head = lw(vgg, num_classes)\n",
        "\n",
        "model = Model(inputs = vgg.input, outputs = FC_Head)\n",
        "\n",
        "print(model.summary())"
      ],
      "metadata": {
        "colab": {
          "base_uri": "https://localhost:8080/"
        },
        "id": "2kjQUISOpfOK",
        "outputId": "d480bdd0-d035-466f-a6c2-1b17c672a309"
      },
      "execution_count": null,
      "outputs": [
        {
          "output_type": "stream",
          "name": "stdout",
          "text": [
            "Model: \"model_1\"\n",
            "_________________________________________________________________\n",
            " Layer (type)                Output Shape              Param #   \n",
            "=================================================================\n",
            " input_2 (InputLayer)        [(None, 224, 224, 3)]     0         \n",
            "                                                                 \n",
            " block1_conv1 (Conv2D)       (None, 224, 224, 64)      1792      \n",
            "                                                                 \n",
            " block1_conv2 (Conv2D)       (None, 224, 224, 64)      36928     \n",
            "                                                                 \n",
            " block1_pool (MaxPooling2D)  (None, 112, 112, 64)      0         \n",
            "                                                                 \n",
            " block2_conv1 (Conv2D)       (None, 112, 112, 128)     73856     \n",
            "                                                                 \n",
            " block2_conv2 (Conv2D)       (None, 112, 112, 128)     147584    \n",
            "                                                                 \n",
            " block2_pool (MaxPooling2D)  (None, 56, 56, 128)       0         \n",
            "                                                                 \n",
            " block3_conv1 (Conv2D)       (None, 56, 56, 256)       295168    \n",
            "                                                                 \n",
            " block3_conv2 (Conv2D)       (None, 56, 56, 256)       590080    \n",
            "                                                                 \n",
            " block3_conv3 (Conv2D)       (None, 56, 56, 256)       590080    \n",
            "                                                                 \n",
            " block3_pool (MaxPooling2D)  (None, 28, 28, 256)       0         \n",
            "                                                                 \n",
            " block4_conv1 (Conv2D)       (None, 28, 28, 512)       1180160   \n",
            "                                                                 \n",
            " block4_conv2 (Conv2D)       (None, 28, 28, 512)       2359808   \n",
            "                                                                 \n",
            " block4_conv3 (Conv2D)       (None, 28, 28, 512)       2359808   \n",
            "                                                                 \n",
            " block4_pool (MaxPooling2D)  (None, 14, 14, 512)       0         \n",
            "                                                                 \n",
            " block5_conv1 (Conv2D)       (None, 14, 14, 512)       2359808   \n",
            "                                                                 \n",
            " block5_conv2 (Conv2D)       (None, 14, 14, 512)       2359808   \n",
            "                                                                 \n",
            " block5_conv3 (Conv2D)       (None, 14, 14, 512)       2359808   \n",
            "                                                                 \n",
            " block5_pool (MaxPooling2D)  (None, 7, 7, 512)         0         \n",
            "                                                                 \n",
            " global_average_pooling2d_1   (None, 512)              0         \n",
            " (GlobalAveragePooling2D)                                        \n",
            "                                                                 \n",
            " dense_4 (Dense)             (None, 1024)              525312    \n",
            "                                                                 \n",
            " dense_5 (Dense)             (None, 1024)              1049600   \n",
            "                                                                 \n",
            " dense_6 (Dense)             (None, 512)               524800    \n",
            "                                                                 \n",
            " dense_7 (Dense)             (None, 2)                 1026      \n",
            "                                                                 \n",
            "=================================================================\n",
            "Total params: 16,815,426\n",
            "Trainable params: 2,100,738\n",
            "Non-trainable params: 14,714,688\n",
            "_________________________________________________________________\n",
            "None\n"
          ]
        }
      ]
    },
    {
      "cell_type": "code",
      "source": [
        "from keras import optimizers\n",
        "import tensorflow as tf\n",
        "\n",
        "adam = tf.keras.optimizers.Adam(lr=0.001),\n",
        "model.compile(loss='binary_crossentropy',\n",
        "              optimizer=adam,\n",
        "              metrics=['accuracy'])"
      ],
      "metadata": {
        "colab": {
          "base_uri": "https://localhost:8080/"
        },
        "id": "y1cjLOy5fPGE",
        "outputId": "19b4b23c-7ad3-4c04-c2a3-3b5d1233d044"
      },
      "execution_count": null,
      "outputs": [
        {
          "output_type": "stream",
          "name": "stderr",
          "text": [
            "/usr/local/lib/python3.7/dist-packages/keras/optimizer_v2/adam.py:105: UserWarning: The `lr` argument is deprecated, use `learning_rate` instead.\n",
            "  super(Adam, self).__init__(name, **kwargs)\n"
          ]
        }
      ]
    },
    {
      "cell_type": "code",
      "source": [
        "#avoiding overfitting of the dataset\n",
        "train_datagen = ImageDataGenerator(\n",
        "    preprocessing_function=preprocess_input,\n",
        "    rotation_range=40,\n",
        "    width_shift_range=0.2,\n",
        "    height_shift_range=0.2,\n",
        "    shear_range=0.2,\n",
        "    zoom_range=0.2,\n",
        "    horizontal_flip=True,\n",
        "    fill_mode='nearest')"
      ],
      "metadata": {
        "id": "HJaQf_FzfWLd"
      },
      "execution_count": null,
      "outputs": []
    },
    {
      "cell_type": "code",
      "source": [
        "test_datagen = ImageDataGenerator(\n",
        "    preprocessing_function=preprocess_input,\n",
        "    rotation_range=40,\n",
        "    width_shift_range=0.2,\n",
        "    height_shift_range=0.2,\n",
        "    shear_range=0.2,\n",
        "    zoom_range=0.2,\n",
        "    horizontal_flip=True,\n",
        "    fill_mode='nearest')"
      ],
      "metadata": {
        "id": "YOOY0Fs6fcjp"
      },
      "execution_count": null,
      "outputs": []
    },
    {
      "cell_type": "code",
      "source": [
        "#Give dataset path\n",
        "train_path = '/content/monkeypox_and_others_small/train'\n",
        "test_path = '/content/monkeypox_and_others_small/val'\n"
      ],
      "metadata": {
        "id": "lnytkq_MffGX"
      },
      "execution_count": null,
      "outputs": []
    },
    {
      "cell_type": "code",
      "source": [
        "train_set = train_datagen.flow_from_directory(train_path,\n",
        "                                                 target_size = (224, 224),\n",
        "                                                 batch_size = 16,\n",
        "                                                 class_mode = 'categorical')"
      ],
      "metadata": {
        "colab": {
          "base_uri": "https://localhost:8080/"
        },
        "id": "Mv83Z3tufiI5",
        "outputId": "ce726d3d-d596-4cfd-eac1-c12f045c44a8"
      },
      "execution_count": null,
      "outputs": [
        {
          "output_type": "stream",
          "name": "stdout",
          "text": [
            "Found 2142 images belonging to 2 classes.\n"
          ]
        }
      ]
    },
    {
      "cell_type": "code",
      "source": [
        "test_set = test_datagen.flow_from_directory(test_path,\n",
        "                                            target_size = (224, 224),\n",
        "                                            batch_size = 16,\n",
        "                                            class_mode = 'categorical')"
      ],
      "metadata": {
        "colab": {
          "base_uri": "https://localhost:8080/"
        },
        "id": "N536niwjflfq",
        "outputId": "9ba4ee26-60a5-4d23-d24d-09f4f5c36bcb"
      },
      "execution_count": null,
      "outputs": [
        {
          "output_type": "stream",
          "name": "stdout",
          "text": [
            "Found 420 images belonging to 2 classes.\n"
          ]
        }
      ]
    },
    {
      "cell_type": "code",
      "source": [
        "train_set = train_datagen.flow_from_directory(train_path,\n",
        "                                                 target_size = (224, 224),\n",
        "                                                 batch_size = 16,\n",
        "                                                 class_mode = 'categorical')"
      ],
      "metadata": {
        "id": "0BUT63esELK1",
        "colab": {
          "base_uri": "https://localhost:8080/"
        },
        "outputId": "99f912dd-61fc-4700-9848-22d3ed533a45"
      },
      "execution_count": null,
      "outputs": [
        {
          "output_type": "stream",
          "name": "stdout",
          "text": [
            "Found 2142 images belonging to 2 classes.\n"
          ]
        }
      ]
    },
    {
      "cell_type": "code",
      "source": [
        "test_set = test_datagen.flow_from_directory(test_path,\n",
        "                                            target_size = (224, 224),\n",
        "                                            batch_size = 16,\n",
        "                                            class_mode = 'categorical')"
      ],
      "metadata": {
        "id": "01i3mz-cEPC7",
        "colab": {
          "base_uri": "https://localhost:8080/"
        },
        "outputId": "df094979-aa79-46db-a0c8-cfed291d958f"
      },
      "execution_count": null,
      "outputs": [
        {
          "output_type": "stream",
          "name": "stdout",
          "text": [
            "Found 420 images belonging to 2 classes.\n"
          ]
        }
      ]
    },
    {
      "cell_type": "code",
      "source": [
        "# from keras.callbacks import ModelCheckpoint, EarlyStopping\n",
        "# checkpoint = ModelCheckpoint(\"vgg16_1.h5\", monitor='val_accuracy', verbose=1, save_best_only=True, save_weights_only=False, mode='auto', period=1)\n",
        "# early = EarlyStopping(monitor='val_accuracy', min_delta=0, patience=20, verbose=1, mode='auto')\n",
        "# hist = model.fit_generator(steps_per_epoch=5,generator=train_set, validation_data= test_set, validation_steps=10,epochs=10,callbacks=[checkpoint,early])\n",
        "\n",
        "from keras.callbacks import ModelCheckpoint, EarlyStopping\n",
        "model.compile(optimizer=tf.keras.optimizers.Adam(lr=0.01),\n",
        "                loss='binary_crossentropy',\n",
        "                metrics=['accuracy'])\n",
        "early = EarlyStopping(monitor='val_accuracy', min_delta=0, patience=20, verbose=2, mode='auto')\n",
        "\n",
        "hist= model.fit(train_set,\n",
        "                       epochs=50,\n",
        "                       steps_per_epoch=10,\n",
        "                       callbacks=[early],\n",
        "                        \n",
        "                       validation_data=test_set)"
      ],
      "metadata": {
        "colab": {
          "base_uri": "https://localhost:8080/"
        },
        "id": "YAZzQTV_fpKe",
        "outputId": "93beed10-a1f5-469a-f5fb-533bbd4d4d6c"
      },
      "execution_count": null,
      "outputs": [
        {
          "output_type": "stream",
          "name": "stdout",
          "text": [
            "Epoch 1/50\n",
            "10/10 [==============================] - 8s 814ms/step - loss: 0.4813 - accuracy: 0.7875 - val_loss: 0.7372 - val_accuracy: 0.6952\n",
            "Epoch 2/50\n",
            "10/10 [==============================] - 7s 774ms/step - loss: 0.4295 - accuracy: 0.7812 - val_loss: 0.6793 - val_accuracy: 0.7786\n",
            "Epoch 3/50\n",
            "10/10 [==============================] - 7s 779ms/step - loss: 0.4514 - accuracy: 0.8438 - val_loss: 1.1880 - val_accuracy: 0.6619\n",
            "Epoch 4/50\n",
            "10/10 [==============================] - 7s 778ms/step - loss: 0.4361 - accuracy: 0.7875 - val_loss: 0.6740 - val_accuracy: 0.7214\n",
            "Epoch 5/50\n",
            "10/10 [==============================] - 7s 772ms/step - loss: 0.4118 - accuracy: 0.8500 - val_loss: 0.9484 - val_accuracy: 0.6738\n",
            "Epoch 6/50\n",
            "10/10 [==============================] - 7s 768ms/step - loss: 0.3093 - accuracy: 0.8500 - val_loss: 1.1528 - val_accuracy: 0.6738\n",
            "Epoch 7/50\n",
            "10/10 [==============================] - 7s 783ms/step - loss: 0.2959 - accuracy: 0.8750 - val_loss: 1.0147 - val_accuracy: 0.6905\n",
            "Epoch 8/50\n",
            "10/10 [==============================] - 7s 769ms/step - loss: 0.3152 - accuracy: 0.8734 - val_loss: 1.0886 - val_accuracy: 0.6500\n",
            "Epoch 9/50\n",
            "10/10 [==============================] - 7s 775ms/step - loss: 0.3278 - accuracy: 0.8813 - val_loss: 0.6426 - val_accuracy: 0.6810\n",
            "Epoch 10/50\n",
            "10/10 [==============================] - 7s 774ms/step - loss: 0.3464 - accuracy: 0.8562 - val_loss: 0.8510 - val_accuracy: 0.7071\n",
            "Epoch 11/50\n",
            "10/10 [==============================] - 7s 774ms/step - loss: 0.2837 - accuracy: 0.8938 - val_loss: 0.9322 - val_accuracy: 0.7071\n",
            "Epoch 12/50\n",
            "10/10 [==============================] - 7s 775ms/step - loss: 0.2846 - accuracy: 0.8562 - val_loss: 1.1172 - val_accuracy: 0.7119\n",
            "Epoch 13/50\n",
            "10/10 [==============================] - 7s 777ms/step - loss: 0.2142 - accuracy: 0.8938 - val_loss: 1.0762 - val_accuracy: 0.7405\n",
            "Epoch 14/50\n",
            "10/10 [==============================] - 7s 775ms/step - loss: 0.2761 - accuracy: 0.8938 - val_loss: 0.7966 - val_accuracy: 0.6929\n",
            "Epoch 15/50\n",
            "10/10 [==============================] - 7s 779ms/step - loss: 0.2101 - accuracy: 0.9250 - val_loss: 1.0625 - val_accuracy: 0.7119\n",
            "Epoch 16/50\n",
            "10/10 [==============================] - 7s 774ms/step - loss: 0.3007 - accuracy: 0.8687 - val_loss: 1.2041 - val_accuracy: 0.7071\n",
            "Epoch 17/50\n",
            "10/10 [==============================] - 7s 772ms/step - loss: 0.3393 - accuracy: 0.8813 - val_loss: 0.8487 - val_accuracy: 0.6976\n",
            "Epoch 18/50\n",
            "10/10 [==============================] - 7s 768ms/step - loss: 0.2338 - accuracy: 0.8813 - val_loss: 1.0034 - val_accuracy: 0.7190\n",
            "Epoch 19/50\n",
            "10/10 [==============================] - 7s 768ms/step - loss: 0.2595 - accuracy: 0.8938 - val_loss: 1.0323 - val_accuracy: 0.6881\n",
            "Epoch 20/50\n",
            "10/10 [==============================] - 7s 777ms/step - loss: 0.2413 - accuracy: 0.9000 - val_loss: 1.3883 - val_accuracy: 0.7405\n",
            "Epoch 21/50\n",
            "10/10 [==============================] - 7s 777ms/step - loss: 0.7177 - accuracy: 0.8188 - val_loss: 0.6079 - val_accuracy: 0.7381\n",
            "Epoch 22/50\n",
            "10/10 [==============================] - 7s 778ms/step - loss: 0.3353 - accuracy: 0.8625 - val_loss: 0.9462 - val_accuracy: 0.7429\n",
            "Epoch 22: early stopping\n"
          ]
        }
      ]
    },
    {
      "cell_type": "code",
      "source": [
        "# accuracies\n",
        "plt.plot(hist.history['accuracy'], label='train acc')\n",
        "plt.plot(hist.history['val_accuracy'], label='val acc')\n",
        "plt.legend()\n",
        "plt.show()\n",
        "plt.savefig('AccVal_accuracy')"
      ],
      "metadata": {
        "colab": {
          "base_uri": "https://localhost:8080/",
          "height": 282
        },
        "id": "dbDKvnBADoUz",
        "outputId": "2ffe1761-65fb-465c-aedc-a6ff9bb969eb"
      },
      "execution_count": null,
      "outputs": [
        {
          "output_type": "display_data",
          "data": {
            "text/plain": [
              "<Figure size 432x288 with 1 Axes>"
            ],
            "image/png": "[encoded data removed]"
          },
          "metadata": {
            "needs_background": "light"
          }
        },
        {
          "output_type": "display_data",
          "data": {
            "text/plain": [
              "<Figure size 432x288 with 0 Axes>"
            ]
          },
          "metadata": {}
        }
      ]
    },
    {
      "cell_type": "code",
      "source": [
        "# loss\n",
        "plt.plot(hist.history['loss'], label='train loss')\n",
        "plt.plot(hist.history['val_loss'], label='val loss')\n",
        "plt.legend()\n",
        "plt.show()\n",
        "plt.savefig('LossVal_loss')"
      ],
      "metadata": {
        "colab": {
          "base_uri": "https://localhost:8080/",
          "height": 282
        },
        "id": "XKLKfEfdDxat",
        "outputId": "26dd9b28-f4e0-462f-c220-3ad0876b0109"
      },
      "execution_count": null,
      "outputs": [
        {
          "output_type": "display_data",
          "data": {
            "text/plain": [
              "<Figure size 432x288 with 1 Axes>"
            ],
            "image/png": "[encoded data removed]"
          },
          "metadata": {
            "needs_background": "light"
          }
        },
        {
          "output_type": "display_data",
          "data": {
            "text/plain": [
              "<Figure size 432x288 with 0 Axes>"
            ]
          },
          "metadata": {}
        }
      ]
    },
    {
      "cell_type": "markdown",
      "source": [
        "##XCEPTION"
      ],
      "metadata": {
        "id": "zqHSTL3rY3HP"
      }
    },
    {
      "cell_type": "code",
      "source": [
        "# Necessary imports\n",
        "import numpy as np\n",
        "import pandas as pd\n",
        "import matplotlib.pyplot as plt\n",
        "import seaborn as sns \n",
        "from keras.preprocessing.image import load_img\n",
        "from keras.preprocessing.image import img_to_array\n",
        "from tensorflow.keras.preprocessing import image_dataset_from_directory\n",
        "import tensorflow as tf\n",
        "import os\n",
        "from tensorflow import keras\n",
        "from tensorflow.keras import layers\n",
        "from tensorflow.keras.models import Sequential\n",
        "from tensorflow.keras.layers import Input, Dense, Conv2D, Add\n",
        "from tensorflow.keras.layers import SeparableConv2D, ReLU\n",
        "from tensorflow.keras.layers import BatchNormalization\n",
        "from tensorflow.keras.layers import MaxPool2D\n",
        "from tensorflow.keras.layers import GlobalAvgPool2D\n",
        "from tensorflow.keras.layers import Dropout\n",
        "from tensorflow.keras import Model\n",
        "import warnings\n",
        "warnings.filterwarnings(\"ignore\")\n",
        "os.environ['TF_CPP_MIN_LOG_LEVEL'] = '3' \n",
        "\n",
        "print(\"TF version:\", tf.__version__)"
      ],
      "metadata": {
        "colab": {
          "base_uri": "https://localhost:8080/"
        },
        "id": "wr6Yds_2Y6ny",
        "outputId": "db514181-9a75-405b-bd89-0298cb179b65"
      },
      "execution_count": null,
      "outputs": [
        {
          "output_type": "stream",
          "name": "stdout",
          "text": [
            "TF version: 2.8.2\n"
          ]
        }
      ]
    },
    {
      "cell_type": "code",
      "source": [
        "train_ds = tf.keras.utils.image_dataset_from_directory(\"../content/monkeypox_and_others_small/train\",    \n",
        "    labels='inferred',\n",
        "    label_mode='int',\n",
        "    class_names=None,\n",
        "    color_mode='rgb',\n",
        "    batch_size=16,\n",
        "    image_size=(299, 299),\n",
        "    shuffle=True,\n",
        "    seed=42,                                                   \n",
        "    validation_split=0.2,\n",
        "    subset=\"training\",                                                  \n",
        "    interpolation='bilinear',\n",
        "    follow_links=False,\n",
        "    crop_to_aspect_ratio=False,\n",
        " )"
      ],
      "metadata": {
        "colab": {
          "base_uri": "https://localhost:8080/"
        },
        "id": "7LJWTtF8Y8JU",
        "outputId": "034653c1-f3d5-4abb-80e1-94b4aaa05fa3"
      },
      "execution_count": null,
      "outputs": [
        {
          "output_type": "stream",
          "name": "stdout",
          "text": [
            "Found 2142 files belonging to 2 classes.\n",
            "Using 1714 files for training.\n"
          ]
        }
      ]
    },
    {
      "cell_type": "code",
      "source": [
        "val_ds = tf.keras.utils.image_dataset_from_directory(\"../content/Original Images/Original Images\",\n",
        "  validation_split=None,\n",
        "  seed=123,\n",
        "  image_size=(299, 299),\n",
        "  batch_size=16)"
      ],
      "metadata": {
        "colab": {
          "base_uri": "https://localhost:8080/"
        },
        "id": "SXierP_NZIzn",
        "outputId": "7fe0862f-b8ea-4c3d-bdaa-8bdf83fc2142"
      },
      "execution_count": null,
      "outputs": [
        {
          "output_type": "stream",
          "name": "stdout",
          "text": [
            "Found 228 files belonging to 2 classes.\n"
          ]
        }
      ]
    },
    {
      "cell_type": "code",
      "source": [
        "class_names = train_ds.class_names\n",
        "print(class_names)"
      ],
      "metadata": {
        "colab": {
          "base_uri": "https://localhost:8080/"
        },
        "id": "n7OxVQTxZL_0",
        "outputId": "e5d8e7db-032a-4e24-a91a-1723886e74cf"
      },
      "execution_count": null,
      "outputs": [
        {
          "output_type": "stream",
          "name": "stdout",
          "text": [
            "['monkeypox', 'others']\n"
          ]
        }
      ]
    },
    {
      "cell_type": "code",
      "source": [
        "for image_batch, labels_batch in train_ds:\n",
        "    print(image_batch.shape)\n",
        "    print(labels_batch.shape)\n",
        "    break"
      ],
      "metadata": {
        "colab": {
          "base_uri": "https://localhost:8080/"
        },
        "id": "t_uPEIZ-ZO6Y",
        "outputId": "5598bcb9-565c-492d-9f2a-aee58e740706"
      },
      "execution_count": null,
      "outputs": [
        {
          "output_type": "stream",
          "name": "stdout",
          "text": [
            "(16, 299, 299, 3)\n",
            "(16,)\n"
          ]
        }
      ]
    },
    {
      "cell_type": "code",
      "source": [
        "normalization_layer = tf.keras.layers.Rescaling(1./255)\n",
        "normalized_ds = train_ds.map(lambda x, y: (normalization_layer(x), y))\n",
        "image_batch, labels_batch = next(iter(normalized_ds))\n",
        "first_image = image_batch[0]\n",
        "print(np.min(first_image), np.max(first_image))"
      ],
      "metadata": {
        "colab": {
          "base_uri": "https://localhost:8080/"
        },
        "id": "HKV2Evj1ZR09",
        "outputId": "ae87221f-9f67-4d31-9774-75cdc61b5177"
      },
      "execution_count": null,
      "outputs": [
        {
          "output_type": "stream",
          "name": "stdout",
          "text": [
            "0.061118755 0.7999436\n"
          ]
        }
      ]
    },
    {
      "cell_type": "code",
      "source": [
        "AUTOTUNE = tf.data.AUTOTUNE\n",
        "\n",
        "train_ds = train_ds.cache().prefetch(buffer_size=AUTOTUNE)\n",
        "val_ds = val_ds.cache().prefetch(buffer_size=AUTOTUNE)\n"
      ],
      "metadata": {
        "id": "NLZ6gV5DZUpE"
      },
      "execution_count": null,
      "outputs": []
    },
    {
      "cell_type": "code",
      "source": [
        "from tensorflow.keras.layers import MaxPool2D\n"
      ],
      "metadata": {
        "id": "l721DE4wZZbC"
      },
      "execution_count": null,
      "outputs": []
    },
    {
      "cell_type": "code",
      "source": [
        "def conv_bn(x, filters, kernel_size, strides=1):\n",
        "    x = Conv2D(filters=filters, kernel_size=kernel_size, strides=strides,\n",
        "              padding=\"same\", use_bias=False)(x)\n",
        "    x = BatchNormalization()(x)\n",
        "    return x   "
      ],
      "metadata": {
        "id": "OR3H2I25ZiPF"
      },
      "execution_count": null,
      "outputs": []
    },
    {
      "cell_type": "code",
      "source": [
        "# Creating separable Conv-batch norm block\n",
        "\n",
        "def sep_bn(x, filters, kernel_size, strides=1):\n",
        "    x = SeparableConv2D(filters=filters, kernel_size=kernel_size, strides=strides,\n",
        "              padding=\"same\", use_bias=False)(x)\n",
        "    x = BatchNormalization()(x)  \n",
        "    return x"
      ],
      "metadata": {
        "id": "XVxdCblfZkh_"
      },
      "execution_count": null,
      "outputs": []
    },
    {
      "cell_type": "code",
      "source": [
        "# functions for Entry,Middle and Exit flow\n",
        "\n",
        "def entry_flow(x):    \n",
        "    x = conv_bn(x, filters = 32, kernel_size =3, strides=2)\n",
        "    x = ReLU()(x)\n",
        "    x = conv_bn(x, filters = 64, kernel_size =3, strides=1)\n",
        "    tensor =ReLU()(x)\n",
        "    x = sep_bn(tensor, filters=128, kernel_size = 3)\n",
        "    x = ReLU()(x)\n",
        "    x = sep_bn(tensor, filters=128, kernel_size = 3)\n",
        "    x = MaxPool2D(pool_size = 3, strides=2, padding=\"same\")(x)      \n",
        "    tensor = conv_bn(tensor, filters=128, kernel_size=1, strides=2)\n",
        "    x = Add()([tensor, x])\n",
        "    x = ReLU()(x)\n",
        "    x = sep_bn(x, filters=256, kernel_size = 3)\n",
        "    x =ReLU()(x)\n",
        "    x = sep_bn(x, filters=256, kernel_size = 3)\n",
        "    x = MaxPool2D(pool_size = 3, strides = 2, padding = \"same\")(x)    \n",
        "    tensor=conv_bn(tensor,filters=256, kernel_size=1, strides=2)\n",
        "    x = Add()([tensor, x])\n",
        "    x = ReLU()(x)\n",
        "    x = sep_bn(x, filters=728, kernel_size = 3)\n",
        "    x =ReLU()(x)\n",
        "    x = sep_bn(x, filters=728, kernel_size = 3)\n",
        "    x = MaxPool2D(pool_size = 3, strides = 2, padding = \"same\")(x)\n",
        "    tensor = conv_bn(tensor,filters=728, kernel_size=1, strides=2)\n",
        "    x = Add()([tensor, x])\n",
        "    return x"
      ],
      "metadata": {
        "id": "ZMafO3r_ZpH_"
      },
      "execution_count": null,
      "outputs": []
    },
    {
      "cell_type": "code",
      "source": [
        "# middle flow\n",
        "\n",
        "def middle_flow(tensor):\n",
        "    for _ in range(8):\n",
        "        x = ReLU()(tensor)\n",
        "        x = sep_bn(x, filters=728, kernel_size = 3)\n",
        "        x = ReLU()(x)\n",
        "        x = sep_bn(x, filters=728, kernel_size = 3)\n",
        "        x = ReLU()(x)\n",
        "        x = sep_bn(x, filters=728, kernel_size = 3)\n",
        "        x = ReLU()(x)\n",
        "        tensor =Add()([tensor, x])\n",
        "    return tensor  "
      ],
      "metadata": {
        "id": "ON-WZSSsZsYj"
      },
      "execution_count": null,
      "outputs": []
    },
    {
      "cell_type": "code",
      "source": [
        "def exit_flow(tensor):\n",
        "    x = ReLU()(tensor)\n",
        "    x = sep_bn(x, filters=728, kernel_size = 3)\n",
        "    x = ReLU()(x)\n",
        "    x = sep_bn(x, filters=1024, kernel_size = 3)\n",
        "    x = MaxPool2D(pool_size = 3, strides=2, padding=\"same\")(x)\n",
        "    tensor = conv_bn(tensor, filters=1024, kernel_size=1, strides=2)\n",
        "    x = Add()([tensor, x])\n",
        "    x = sep_bn(x, filters=1536, kernel_size = 3)\n",
        "    x = ReLU()(x)\n",
        "    x = sep_bn(x, filters=2048, kernel_size = 3)\n",
        "    x = ReLU()(x)  \n",
        "    x = sep_bn(x, filters = 4096,  kernel_size=3)\n",
        "    x = ReLU()(x) \n",
        "    x = GlobalAvgPool2D()(x)\n",
        "    x = Dense (units = 2, activation =\"softmax\")(x)\n",
        "        \n",
        "    return x   "
      ],
      "metadata": {
        "id": "psDCJSgWZu2X"
      },
      "execution_count": null,
      "outputs": []
    },
    {
      "cell_type": "code",
      "source": [
        "input = Input(shape = (299, 299, 3))\n",
        "x = entry_flow(input)\n",
        "x = middle_flow(x)\n",
        "output = exit_flow(x)"
      ],
      "metadata": {
        "id": "c-CNm0ZbZyTI"
      },
      "execution_count": null,
      "outputs": []
    },
    {
      "cell_type": "code",
      "source": [
        "model =Model(inputs=input, outputs=output)\n",
        "model.summary()"
      ],
      "metadata": {
        "colab": {
          "base_uri": "https://localhost:8080/"
        },
        "id": "AVMsBS1wZ3Ga",
        "outputId": "195a9452-6dbd-40d4-b1bd-98fd3b47560a"
      },
      "execution_count": null,
      "outputs": [
        {
          "output_type": "stream",
          "name": "stdout",
          "text": [
            "Model: \"model_1\"\n",
            "__________________________________________________________________________________________________\n",
            " Layer (type)                   Output Shape         Param #     Connected to                     \n",
            "==================================================================================================\n",
            " input_2 (InputLayer)           [(None, 299, 299, 3  0           []                               \n",
            "                                )]                                                                \n",
            "                                                                                                  \n",
            " conv2d_6 (Conv2D)              (None, 150, 150, 32  864         ['input_2[0][0]']                \n",
            "                                )                                                                 \n",
            "                                                                                                  \n",
            " batch_normalization_41 (BatchN  (None, 150, 150, 32  128        ['conv2d_6[0][0]']               \n",
            " ormalization)                  )                                                                 \n",
            "                                                                                                  \n",
            " re_lu_44 (ReLU)                (None, 150, 150, 32  0           ['batch_normalization_41[0][0]'] \n",
            "                                )                                                                 \n",
            "                                                                                                  \n",
            " conv2d_7 (Conv2D)              (None, 150, 150, 64  18432       ['re_lu_44[0][0]']               \n",
            "                                )                                                                 \n",
            "                                                                                                  \n",
            " batch_normalization_42 (BatchN  (None, 150, 150, 64  256        ['conv2d_7[0][0]']               \n",
            " ormalization)                  )                                                                 \n",
            "                                                                                                  \n",
            " re_lu_45 (ReLU)                (None, 150, 150, 64  0           ['batch_normalization_42[0][0]'] \n",
            "                                )                                                                 \n",
            "                                                                                                  \n",
            " separable_conv2d_36 (Separable  (None, 150, 150, 12  8768       ['re_lu_45[0][0]']               \n",
            " Conv2D)                        8)                                                                \n",
            "                                                                                                  \n",
            " conv2d_8 (Conv2D)              (None, 75, 75, 128)  8192        ['re_lu_45[0][0]']               \n",
            "                                                                                                  \n",
            " batch_normalization_44 (BatchN  (None, 150, 150, 12  512        ['separable_conv2d_36[0][0]']    \n",
            " ormalization)                  8)                                                                \n",
            "                                                                                                  \n",
            " batch_normalization_45 (BatchN  (None, 75, 75, 128)  512        ['conv2d_8[0][0]']               \n",
            " ormalization)                                                                                    \n",
            "                                                                                                  \n",
            " max_pooling2d_4 (MaxPooling2D)  (None, 75, 75, 128)  0          ['batch_normalization_44[0][0]'] \n",
            "                                                                                                  \n",
            " add_12 (Add)                   (None, 75, 75, 128)  0           ['batch_normalization_45[0][0]', \n",
            "                                                                  'max_pooling2d_4[0][0]']        \n",
            "                                                                                                  \n",
            " re_lu_47 (ReLU)                (None, 75, 75, 128)  0           ['add_12[0][0]']                 \n",
            "                                                                                                  \n",
            " separable_conv2d_37 (Separable  (None, 75, 75, 256)  33920      ['re_lu_47[0][0]']               \n",
            " Conv2D)                                                                                          \n",
            "                                                                                                  \n",
            " batch_normalization_46 (BatchN  (None, 75, 75, 256)  1024       ['separable_conv2d_37[0][0]']    \n",
            " ormalization)                                                                                    \n",
            "                                                                                                  \n",
            " re_lu_48 (ReLU)                (None, 75, 75, 256)  0           ['batch_normalization_46[0][0]'] \n",
            "                                                                                                  \n",
            " separable_conv2d_38 (Separable  (None, 75, 75, 256)  67840      ['re_lu_48[0][0]']               \n",
            " Conv2D)                                                                                          \n",
            "                                                                                                  \n",
            " conv2d_9 (Conv2D)              (None, 38, 38, 256)  32768       ['batch_normalization_45[0][0]'] \n",
            "                                                                                                  \n",
            " batch_normalization_47 (BatchN  (None, 75, 75, 256)  1024       ['separable_conv2d_38[0][0]']    \n",
            " ormalization)                                                                                    \n",
            "                                                                                                  \n",
            " batch_normalization_48 (BatchN  (None, 38, 38, 256)  1024       ['conv2d_9[0][0]']               \n",
            " ormalization)                                                                                    \n",
            "                                                                                                  \n",
            " max_pooling2d_5 (MaxPooling2D)  (None, 38, 38, 256)  0          ['batch_normalization_47[0][0]'] \n",
            "                                                                                                  \n",
            " add_13 (Add)                   (None, 38, 38, 256)  0           ['batch_normalization_48[0][0]', \n",
            "                                                                  'max_pooling2d_5[0][0]']        \n",
            "                                                                                                  \n",
            " re_lu_49 (ReLU)                (None, 38, 38, 256)  0           ['add_13[0][0]']                 \n",
            "                                                                                                  \n",
            " separable_conv2d_39 (Separable  (None, 38, 38, 728)  188672     ['re_lu_49[0][0]']               \n",
            " Conv2D)                                                                                          \n",
            "                                                                                                  \n",
            " batch_normalization_49 (BatchN  (None, 38, 38, 728)  2912       ['separable_conv2d_39[0][0]']    \n",
            " ormalization)                                                                                    \n",
            "                                                                                                  \n",
            " re_lu_50 (ReLU)                (None, 38, 38, 728)  0           ['batch_normalization_49[0][0]'] \n",
            "                                                                                                  \n",
            " separable_conv2d_40 (Separable  (None, 38, 38, 728)  536536     ['re_lu_50[0][0]']               \n",
            " Conv2D)                                                                                          \n",
            "                                                                                                  \n",
            " conv2d_10 (Conv2D)             (None, 19, 19, 728)  186368      ['batch_normalization_48[0][0]'] \n",
            "                                                                                                  \n",
            " batch_normalization_50 (BatchN  (None, 38, 38, 728)  2912       ['separable_conv2d_40[0][0]']    \n",
            " ormalization)                                                                                    \n",
            "                                                                                                  \n",
            " batch_normalization_51 (BatchN  (None, 19, 19, 728)  2912       ['conv2d_10[0][0]']              \n",
            " ormalization)                                                                                    \n",
            "                                                                                                  \n",
            " max_pooling2d_6 (MaxPooling2D)  (None, 19, 19, 728)  0          ['batch_normalization_50[0][0]'] \n",
            "                                                                                                  \n",
            " add_14 (Add)                   (None, 19, 19, 728)  0           ['batch_normalization_51[0][0]', \n",
            "                                                                  'max_pooling2d_6[0][0]']        \n",
            "                                                                                                  \n",
            " re_lu_51 (ReLU)                (None, 19, 19, 728)  0           ['add_14[0][0]']                 \n",
            "                                                                                                  \n",
            " separable_conv2d_41 (Separable  (None, 19, 19, 728)  536536     ['re_lu_51[0][0]']               \n",
            " Conv2D)                                                                                          \n",
            "                                                                                                  \n",
            " batch_normalization_52 (BatchN  (None, 19, 19, 728)  2912       ['separable_conv2d_41[0][0]']    \n",
            " ormalization)                                                                                    \n",
            "                                                                                                  \n",
            " re_lu_52 (ReLU)                (None, 19, 19, 728)  0           ['batch_normalization_52[0][0]'] \n",
            "                                                                                                  \n",
            " separable_conv2d_42 (Separable  (None, 19, 19, 728)  536536     ['re_lu_52[0][0]']               \n",
            " Conv2D)                                                                                          \n",
            "                                                                                                  \n",
            " batch_normalization_53 (BatchN  (None, 19, 19, 728)  2912       ['separable_conv2d_42[0][0]']    \n",
            " ormalization)                                                                                    \n",
            "                                                                                                  \n",
            " re_lu_53 (ReLU)                (None, 19, 19, 728)  0           ['batch_normalization_53[0][0]'] \n",
            "                                                                                                  \n",
            " separable_conv2d_43 (Separable  (None, 19, 19, 728)  536536     ['re_lu_53[0][0]']               \n",
            " Conv2D)                                                                                          \n",
            "                                                                                                  \n",
            " batch_normalization_54 (BatchN  (None, 19, 19, 728)  2912       ['separable_conv2d_43[0][0]']    \n",
            " ormalization)                                                                                    \n",
            "                                                                                                  \n",
            " re_lu_54 (ReLU)                (None, 19, 19, 728)  0           ['batch_normalization_54[0][0]'] \n",
            "                                                                                                  \n",
            " add_15 (Add)                   (None, 19, 19, 728)  0           ['add_14[0][0]',                 \n",
            "                                                                  're_lu_54[0][0]']               \n",
            "                                                                                                  \n",
            " re_lu_55 (ReLU)                (None, 19, 19, 728)  0           ['add_15[0][0]']                 \n",
            "                                                                                                  \n",
            " separable_conv2d_44 (Separable  (None, 19, 19, 728)  536536     ['re_lu_55[0][0]']               \n",
            " Conv2D)                                                                                          \n",
            "                                                                                                  \n",
            " batch_normalization_55 (BatchN  (None, 19, 19, 728)  2912       ['separable_conv2d_44[0][0]']    \n",
            " ormalization)                                                                                    \n",
            "                                                                                                  \n",
            " re_lu_56 (ReLU)                (None, 19, 19, 728)  0           ['batch_normalization_55[0][0]'] \n",
            "                                                                                                  \n",
            " separable_conv2d_45 (Separable  (None, 19, 19, 728)  536536     ['re_lu_56[0][0]']               \n",
            " Conv2D)                                                                                          \n",
            "                                                                                                  \n",
            " batch_normalization_56 (BatchN  (None, 19, 19, 728)  2912       ['separable_conv2d_45[0][0]']    \n",
            " ormalization)                                                                                    \n",
            "                                                                                                  \n",
            " re_lu_57 (ReLU)                (None, 19, 19, 728)  0           ['batch_normalization_56[0][0]'] \n",
            "                                                                                                  \n",
            " separable_conv2d_46 (Separable  (None, 19, 19, 728)  536536     ['re_lu_57[0][0]']               \n",
            " Conv2D)                                                                                          \n",
            "                                                                                                  \n",
            " batch_normalization_57 (BatchN  (None, 19, 19, 728)  2912       ['separable_conv2d_46[0][0]']    \n",
            " ormalization)                                                                                    \n",
            "                                                                                                  \n",
            " re_lu_58 (ReLU)                (None, 19, 19, 728)  0           ['batch_normalization_57[0][0]'] \n",
            "                                                                                                  \n",
            " add_16 (Add)                   (None, 19, 19, 728)  0           ['add_15[0][0]',                 \n",
            "                                                                  're_lu_58[0][0]']               \n",
            "                                                                                                  \n",
            " re_lu_59 (ReLU)                (None, 19, 19, 728)  0           ['add_16[0][0]']                 \n",
            "                                                                                                  \n",
            " separable_conv2d_47 (Separable  (None, 19, 19, 728)  536536     ['re_lu_59[0][0]']               \n",
            " Conv2D)                                                                                          \n",
            "                                                                                                  \n",
            " batch_normalization_58 (BatchN  (None, 19, 19, 728)  2912       ['separable_conv2d_47[0][0]']    \n",
            " ormalization)                                                                                    \n",
            "                                                                                                  \n",
            " re_lu_60 (ReLU)                (None, 19, 19, 728)  0           ['batch_normalization_58[0][0]'] \n",
            "                                                                                                  \n",
            " separable_conv2d_48 (Separable  (None, 19, 19, 728)  536536     ['re_lu_60[0][0]']               \n",
            " Conv2D)                                                                                          \n",
            "                                                                                                  \n",
            " batch_normalization_59 (BatchN  (None, 19, 19, 728)  2912       ['separable_conv2d_48[0][0]']    \n",
            " ormalization)                                                                                    \n",
            "                                                                                                  \n",
            " re_lu_61 (ReLU)                (None, 19, 19, 728)  0           ['batch_normalization_59[0][0]'] \n",
            "                                                                                                  \n",
            " separable_conv2d_49 (Separable  (None, 19, 19, 728)  536536     ['re_lu_61[0][0]']               \n",
            " Conv2D)                                                                                          \n",
            "                                                                                                  \n",
            " batch_normalization_60 (BatchN  (None, 19, 19, 728)  2912       ['separable_conv2d_49[0][0]']    \n",
            " ormalization)                                                                                    \n",
            "                                                                                                  \n",
            " re_lu_62 (ReLU)                (None, 19, 19, 728)  0           ['batch_normalization_60[0][0]'] \n",
            "                                                                                                  \n",
            " add_17 (Add)                   (None, 19, 19, 728)  0           ['add_16[0][0]',                 \n",
            "                                                                  're_lu_62[0][0]']               \n",
            "                                                                                                  \n",
            " re_lu_63 (ReLU)                (None, 19, 19, 728)  0           ['add_17[0][0]']                 \n",
            "                                                                                                  \n",
            " separable_conv2d_50 (Separable  (None, 19, 19, 728)  536536     ['re_lu_63[0][0]']               \n",
            " Conv2D)                                                                                          \n",
            "                                                                                                  \n",
            " batch_normalization_61 (BatchN  (None, 19, 19, 728)  2912       ['separable_conv2d_50[0][0]']    \n",
            " ormalization)                                                                                    \n",
            "                                                                                                  \n",
            " re_lu_64 (ReLU)                (None, 19, 19, 728)  0           ['batch_normalization_61[0][0]'] \n",
            "                                                                                                  \n",
            " separable_conv2d_51 (Separable  (None, 19, 19, 728)  536536     ['re_lu_64[0][0]']               \n",
            " Conv2D)                                                                                          \n",
            "                                                                                                  \n",
            " batch_normalization_62 (BatchN  (None, 19, 19, 728)  2912       ['separable_conv2d_51[0][0]']    \n",
            " ormalization)                                                                                    \n",
            "                                                                                                  \n",
            " re_lu_65 (ReLU)                (None, 19, 19, 728)  0           ['batch_normalization_62[0][0]'] \n",
            "                                                                                                  \n",
            " separable_conv2d_52 (Separable  (None, 19, 19, 728)  536536     ['re_lu_65[0][0]']               \n",
            " Conv2D)                                                                                          \n",
            "                                                                                                  \n",
            " batch_normalization_63 (BatchN  (None, 19, 19, 728)  2912       ['separable_conv2d_52[0][0]']    \n",
            " ormalization)                                                                                    \n",
            "                                                                                                  \n",
            " re_lu_66 (ReLU)                (None, 19, 19, 728)  0           ['batch_normalization_63[0][0]'] \n",
            "                                                                                                  \n",
            " add_18 (Add)                   (None, 19, 19, 728)  0           ['add_17[0][0]',                 \n",
            "                                                                  're_lu_66[0][0]']               \n",
            "                                                                                                  \n",
            " re_lu_67 (ReLU)                (None, 19, 19, 728)  0           ['add_18[0][0]']                 \n",
            "                                                                                                  \n",
            " separable_conv2d_53 (Separable  (None, 19, 19, 728)  536536     ['re_lu_67[0][0]']               \n",
            " Conv2D)                                                                                          \n",
            "                                                                                                  \n",
            " batch_normalization_64 (BatchN  (None, 19, 19, 728)  2912       ['separable_conv2d_53[0][0]']    \n",
            " ormalization)                                                                                    \n",
            "                                                                                                  \n",
            " re_lu_68 (ReLU)                (None, 19, 19, 728)  0           ['batch_normalization_64[0][0]'] \n",
            "                                                                                                  \n",
            " separable_conv2d_54 (Separable  (None, 19, 19, 728)  536536     ['re_lu_68[0][0]']               \n",
            " Conv2D)                                                                                          \n",
            "                                                                                                  \n",
            " batch_normalization_65 (BatchN  (None, 19, 19, 728)  2912       ['separable_conv2d_54[0][0]']    \n",
            " ormalization)                                                                                    \n",
            "                                                                                                  \n",
            " re_lu_69 (ReLU)                (None, 19, 19, 728)  0           ['batch_normalization_65[0][0]'] \n",
            "                                                                                                  \n",
            " separable_conv2d_55 (Separable  (None, 19, 19, 728)  536536     ['re_lu_69[0][0]']               \n",
            " Conv2D)                                                                                          \n",
            "                                                                                                  \n",
            " batch_normalization_66 (BatchN  (None, 19, 19, 728)  2912       ['separable_conv2d_55[0][0]']    \n",
            " ormalization)                                                                                    \n",
            "                                                                                                  \n",
            " re_lu_70 (ReLU)                (None, 19, 19, 728)  0           ['batch_normalization_66[0][0]'] \n",
            "                                                                                                  \n",
            " add_19 (Add)                   (None, 19, 19, 728)  0           ['add_18[0][0]',                 \n",
            "                                                                  're_lu_70[0][0]']               \n",
            "                                                                                                  \n",
            " re_lu_71 (ReLU)                (None, 19, 19, 728)  0           ['add_19[0][0]']                 \n",
            "                                                                                                  \n",
            " separable_conv2d_56 (Separable  (None, 19, 19, 728)  536536     ['re_lu_71[0][0]']               \n",
            " Conv2D)                                                                                          \n",
            "                                                                                                  \n",
            " batch_normalization_67 (BatchN  (None, 19, 19, 728)  2912       ['separable_conv2d_56[0][0]']    \n",
            " ormalization)                                                                                    \n",
            "                                                                                                  \n",
            " re_lu_72 (ReLU)                (None, 19, 19, 728)  0           ['batch_normalization_67[0][0]'] \n",
            "                                                                                                  \n",
            " separable_conv2d_57 (Separable  (None, 19, 19, 728)  536536     ['re_lu_72[0][0]']               \n",
            " Conv2D)                                                                                          \n",
            "                                                                                                  \n",
            " batch_normalization_68 (BatchN  (None, 19, 19, 728)  2912       ['separable_conv2d_57[0][0]']    \n",
            " ormalization)                                                                                    \n",
            "                                                                                                  \n",
            " re_lu_73 (ReLU)                (None, 19, 19, 728)  0           ['batch_normalization_68[0][0]'] \n",
            "                                                                                                  \n",
            " separable_conv2d_58 (Separable  (None, 19, 19, 728)  536536     ['re_lu_73[0][0]']               \n",
            " Conv2D)                                                                                          \n",
            "                                                                                                  \n",
            " batch_normalization_69 (BatchN  (None, 19, 19, 728)  2912       ['separable_conv2d_58[0][0]']    \n",
            " ormalization)                                                                                    \n",
            "                                                                                                  \n",
            " re_lu_74 (ReLU)                (None, 19, 19, 728)  0           ['batch_normalization_69[0][0]'] \n",
            "                                                                                                  \n",
            " add_20 (Add)                   (None, 19, 19, 728)  0           ['add_19[0][0]',                 \n",
            "                                                                  're_lu_74[0][0]']               \n",
            "                                                                                                  \n",
            " re_lu_75 (ReLU)                (None, 19, 19, 728)  0           ['add_20[0][0]']                 \n",
            "                                                                                                  \n",
            " separable_conv2d_59 (Separable  (None, 19, 19, 728)  536536     ['re_lu_75[0][0]']               \n",
            " Conv2D)                                                                                          \n",
            "                                                                                                  \n",
            " batch_normalization_70 (BatchN  (None, 19, 19, 728)  2912       ['separable_conv2d_59[0][0]']    \n",
            " ormalization)                                                                                    \n",
            "                                                                                                  \n",
            " re_lu_76 (ReLU)                (None, 19, 19, 728)  0           ['batch_normalization_70[0][0]'] \n",
            "                                                                                                  \n",
            " separable_conv2d_60 (Separable  (None, 19, 19, 728)  536536     ['re_lu_76[0][0]']               \n",
            " Conv2D)                                                                                          \n",
            "                                                                                                  \n",
            " batch_normalization_71 (BatchN  (None, 19, 19, 728)  2912       ['separable_conv2d_60[0][0]']    \n",
            " ormalization)                                                                                    \n",
            "                                                                                                  \n",
            " re_lu_77 (ReLU)                (None, 19, 19, 728)  0           ['batch_normalization_71[0][0]'] \n",
            "                                                                                                  \n",
            " separable_conv2d_61 (Separable  (None, 19, 19, 728)  536536     ['re_lu_77[0][0]']               \n",
            " Conv2D)                                                                                          \n",
            "                                                                                                  \n",
            " batch_normalization_72 (BatchN  (None, 19, 19, 728)  2912       ['separable_conv2d_61[0][0]']    \n",
            " ormalization)                                                                                    \n",
            "                                                                                                  \n",
            " re_lu_78 (ReLU)                (None, 19, 19, 728)  0           ['batch_normalization_72[0][0]'] \n",
            "                                                                                                  \n",
            " add_21 (Add)                   (None, 19, 19, 728)  0           ['add_20[0][0]',                 \n",
            "                                                                  're_lu_78[0][0]']               \n",
            "                                                                                                  \n",
            " re_lu_79 (ReLU)                (None, 19, 19, 728)  0           ['add_21[0][0]']                 \n",
            "                                                                                                  \n",
            " separable_conv2d_62 (Separable  (None, 19, 19, 728)  536536     ['re_lu_79[0][0]']               \n",
            " Conv2D)                                                                                          \n",
            "                                                                                                  \n",
            " batch_normalization_73 (BatchN  (None, 19, 19, 728)  2912       ['separable_conv2d_62[0][0]']    \n",
            " ormalization)                                                                                    \n",
            "                                                                                                  \n",
            " re_lu_80 (ReLU)                (None, 19, 19, 728)  0           ['batch_normalization_73[0][0]'] \n",
            "                                                                                                  \n",
            " separable_conv2d_63 (Separable  (None, 19, 19, 728)  536536     ['re_lu_80[0][0]']               \n",
            " Conv2D)                                                                                          \n",
            "                                                                                                  \n",
            " batch_normalization_74 (BatchN  (None, 19, 19, 728)  2912       ['separable_conv2d_63[0][0]']    \n",
            " ormalization)                                                                                    \n",
            "                                                                                                  \n",
            " re_lu_81 (ReLU)                (None, 19, 19, 728)  0           ['batch_normalization_74[0][0]'] \n",
            "                                                                                                  \n",
            " separable_conv2d_64 (Separable  (None, 19, 19, 728)  536536     ['re_lu_81[0][0]']               \n",
            " Conv2D)                                                                                          \n",
            "                                                                                                  \n",
            " batch_normalization_75 (BatchN  (None, 19, 19, 728)  2912       ['separable_conv2d_64[0][0]']    \n",
            " ormalization)                                                                                    \n",
            "                                                                                                  \n",
            " re_lu_82 (ReLU)                (None, 19, 19, 728)  0           ['batch_normalization_75[0][0]'] \n",
            "                                                                                                  \n",
            " add_22 (Add)                   (None, 19, 19, 728)  0           ['add_21[0][0]',                 \n",
            "                                                                  're_lu_82[0][0]']               \n",
            "                                                                                                  \n",
            " re_lu_83 (ReLU)                (None, 19, 19, 728)  0           ['add_22[0][0]']                 \n",
            "                                                                                                  \n",
            " separable_conv2d_65 (Separable  (None, 19, 19, 728)  536536     ['re_lu_83[0][0]']               \n",
            " Conv2D)                                                                                          \n",
            "                                                                                                  \n",
            " batch_normalization_76 (BatchN  (None, 19, 19, 728)  2912       ['separable_conv2d_65[0][0]']    \n",
            " ormalization)                                                                                    \n",
            "                                                                                                  \n",
            " re_lu_84 (ReLU)                (None, 19, 19, 728)  0           ['batch_normalization_76[0][0]'] \n",
            "                                                                                                  \n",
            " separable_conv2d_66 (Separable  (None, 19, 19, 1024  752024     ['re_lu_84[0][0]']               \n",
            " Conv2D)                        )                                                                 \n",
            "                                                                                                  \n",
            " conv2d_11 (Conv2D)             (None, 10, 10, 1024  745472      ['add_22[0][0]']                 \n",
            "                                )                                                                 \n",
            "                                                                                                  \n",
            " batch_normalization_77 (BatchN  (None, 19, 19, 1024  4096       ['separable_conv2d_66[0][0]']    \n",
            " ormalization)                  )                                                                 \n",
            "                                                                                                  \n",
            " batch_normalization_78 (BatchN  (None, 10, 10, 1024  4096       ['conv2d_11[0][0]']              \n",
            " ormalization)                  )                                                                 \n",
            "                                                                                                  \n",
            " max_pooling2d_7 (MaxPooling2D)  (None, 10, 10, 1024  0          ['batch_normalization_77[0][0]'] \n",
            "                                )                                                                 \n",
            "                                                                                                  \n",
            " add_23 (Add)                   (None, 10, 10, 1024  0           ['batch_normalization_78[0][0]', \n",
            "                                )                                 'max_pooling2d_7[0][0]']        \n",
            "                                                                                                  \n",
            " separable_conv2d_67 (Separable  (None, 10, 10, 1536  1582080    ['add_23[0][0]']                 \n",
            " Conv2D)                        )                                                                 \n",
            "                                                                                                  \n",
            " batch_normalization_79 (BatchN  (None, 10, 10, 1536  6144       ['separable_conv2d_67[0][0]']    \n",
            " ormalization)                  )                                                                 \n",
            "                                                                                                  \n",
            " re_lu_85 (ReLU)                (None, 10, 10, 1536  0           ['batch_normalization_79[0][0]'] \n",
            "                                )                                                                 \n",
            "                                                                                                  \n",
            " separable_conv2d_68 (Separable  (None, 10, 10, 2048  3159552    ['re_lu_85[0][0]']               \n",
            " Conv2D)                        )                                                                 \n",
            "                                                                                                  \n",
            " batch_normalization_80 (BatchN  (None, 10, 10, 2048  8192       ['separable_conv2d_68[0][0]']    \n",
            " ormalization)                  )                                                                 \n",
            "                                                                                                  \n",
            " re_lu_86 (ReLU)                (None, 10, 10, 2048  0           ['batch_normalization_80[0][0]'] \n",
            "                                )                                                                 \n",
            "                                                                                                  \n",
            " separable_conv2d_69 (Separable  (None, 10, 10, 4096  8407040    ['re_lu_86[0][0]']               \n",
            " Conv2D)                        )                                                                 \n",
            "                                                                                                  \n",
            " batch_normalization_81 (BatchN  (None, 10, 10, 4096  16384      ['separable_conv2d_69[0][0]']    \n",
            " ormalization)                  )                                                                 \n",
            "                                                                                                  \n",
            " re_lu_87 (ReLU)                (None, 10, 10, 4096  0           ['batch_normalization_81[0][0]'] \n",
            "                                )                                                                 \n",
            "                                                                                                  \n",
            " global_average_pooling2d_1 (Gl  (None, 4096)        0           ['re_lu_87[0][0]']               \n",
            " obalAveragePooling2D)                                                                            \n",
            "                                                                                                  \n",
            " dense_1 (Dense)                (None, 2)            8194        ['global_average_pooling2d_1[0][0\n",
            "                                                                 ]']                              \n",
            "                                                                                                  \n",
            "==================================================================================================\n",
            "Total params: 29,275,050\n",
            "Trainable params: 29,212,586\n",
            "Non-trainable params: 62,464\n",
            "__________________________________________________________________________________________________\n"
          ]
        }
      ]
    },
    {
      "cell_type": "code",
      "source": [
        "lr = 0.005\n",
        "from tensorflow.keras.optimizers import Adam\n",
        "model.compile(optimizer=Adam(lr=lr),\n",
        "              loss=tf.keras.losses.SparseCategoricalCrossentropy(from_logits=True),\n",
        "              metrics=['accuracy']) "
      ],
      "metadata": {
        "id": "t-0uk1WfZ30x"
      },
      "execution_count": null,
      "outputs": []
    },
    {
      "cell_type": "code",
      "source": [
        "from keras.callbacks import EarlyStopping,ModelCheckpoint\n",
        "cb = [EarlyStopping(patience=5,monitor='val_accuracy',mode='max',restore_best_weights=True),ModelCheckpoint(\"Exception-01.h5\",save_best_only=True)]\n",
        "history = model.fit(\n",
        "  train_ds,\n",
        "  validation_data=val_ds,\n",
        "    epochs=50,\n",
        "    # steps_per_epoch=10,\n",
        "    callbacks=[cb]\n",
        "   )     "
      ],
      "metadata": {
        "colab": {
          "base_uri": "https://localhost:8080/"
        },
        "id": "72cPh44rZ-CU",
        "outputId": "6751130c-a40b-4360-908b-97614b5a7f43"
      },
      "execution_count": null,
      "outputs": [
        {
          "output_type": "stream",
          "name": "stdout",
          "text": [
            "Epoch 1/50\n",
            "108/108 [==============================] - 57s 532ms/step - loss: 0.7092 - accuracy: 0.5869 - val_loss: 88.3666 - val_accuracy: 0.4474\n",
            "Epoch 2/50\n",
            "108/108 [==============================] - 56s 518ms/step - loss: 0.6725 - accuracy: 0.6179 - val_loss: 0.6497 - val_accuracy: 0.6272\n",
            "Epoch 3/50\n",
            "108/108 [==============================] - 57s 528ms/step - loss: 0.6441 - accuracy: 0.6505 - val_loss: 0.6210 - val_accuracy: 0.6754\n",
            "Epoch 4/50\n",
            "108/108 [==============================] - 56s 515ms/step - loss: 0.6358 - accuracy: 0.6517 - val_loss: 0.6246 - val_accuracy: 0.6842\n",
            "Epoch 5/50\n",
            "108/108 [==============================] - 57s 525ms/step - loss: 0.6278 - accuracy: 0.6669 - val_loss: 0.6061 - val_accuracy: 0.6886\n",
            "Epoch 6/50\n",
            "108/108 [==============================] - 56s 517ms/step - loss: 0.6114 - accuracy: 0.6727 - val_loss: 0.5975 - val_accuracy: 0.7281\n",
            "Epoch 7/50\n",
            "108/108 [==============================] - 55s 508ms/step - loss: 0.6191 - accuracy: 0.6744 - val_loss: 0.8161 - val_accuracy: 0.5482\n",
            "Epoch 8/50\n",
            "108/108 [==============================] - 57s 526ms/step - loss: 0.6204 - accuracy: 0.6704 - val_loss: 0.5941 - val_accuracy: 0.7281\n",
            "Epoch 9/50\n",
            "108/108 [==============================] - 55s 505ms/step - loss: 0.6173 - accuracy: 0.6692 - val_loss: 0.5949 - val_accuracy: 0.6711\n",
            "Epoch 10/50\n",
            "108/108 [==============================] - 55s 508ms/step - loss: 0.6027 - accuracy: 0.6873 - val_loss: 0.6025 - val_accuracy: 0.7061\n",
            "Epoch 11/50\n",
            "108/108 [==============================] - 55s 510ms/step - loss: 0.5846 - accuracy: 0.6960 - val_loss: 0.6040 - val_accuracy: 0.6754\n"
          ]
        }
      ]
    },
    {
      "cell_type": "code",
      "source": [
        "# accuracies\n",
        "plt.plot(history.history['accuracy'], label='train acc')\n",
        "plt.plot(history.history['val_accuracy'], label='val acc')\n",
        "plt.legend()\n",
        "plt.show()\n",
        "plt.savefig('AccVal_accuracy')"
      ],
      "metadata": {
        "colab": {
          "base_uri": "https://localhost:8080/",
          "height": 282
        },
        "id": "JmwN7n0h713j",
        "outputId": "d23863f1-85f0-453b-84d4-76acc6dcc94f"
      },
      "execution_count": null,
      "outputs": [
        {
          "output_type": "display_data",
          "data": {
            "text/plain": [
              "<Figure size 432x288 with 1 Axes>"
            ],
            "image/png": "[encoded data removed]"
          },
          "metadata": {
            "needs_background": "light"
          }
        },
        {
          "output_type": "display_data",
          "data": {
            "text/plain": [
              "<Figure size 432x288 with 0 Axes>"
            ]
          },
          "metadata": {}
        }
      ]
    },
    {
      "cell_type": "code",
      "source": [
        "# loss\n",
        "plt.plot(history.history['loss'], label='train loss')\n",
        "plt.plot(history.history['val_loss'], label='val loss')\n",
        "plt.legend()\n",
        "plt.show()\n",
        "plt.savefig('LossVal_loss')"
      ],
      "metadata": {
        "colab": {
          "base_uri": "https://localhost:8080/",
          "height": 282
        },
        "id": "srfNwG8M9PU7",
        "outputId": "cc7062a7-f18f-47f8-ede1-2c9697fc8fd0"
      },
      "execution_count": null,
      "outputs": [
        {
          "output_type": "display_data",
          "data": {
            "text/plain": [
              "<Figure size 432x288 with 1 Axes>"
            ],
            "image/png": "[encoded data removed]"
          },
          "metadata": {
            "needs_background": "light"
          }
        },
        {
          "output_type": "display_data",
          "data": {
            "text/plain": [
              "<Figure size 432x288 with 0 Axes>"
            ]
          },
          "metadata": {}
        }
      ]
    },
    {
      "cell_type": "markdown",
      "source": [],
      "metadata": {
        "id": "qmRuLT-afY4r"
      }
    }
  ]
}